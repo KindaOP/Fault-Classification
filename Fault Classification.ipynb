{
  "cells": [
    {
      "cell_type": "markdown",
      "source": [
        "# Load Data"
      ],
      "metadata": {
        "id": "XKKiOAwnKFTf"
      }
    },
    {
      "cell_type": "code",
      "execution_count": null,
      "source": [
        "!pip install -q --upgrade gdown --no-cache-dir"
      ],
      "outputs": [
        {
          "output_type": "stream",
          "name": "stdout",
          "text": [
            "  Installing build dependencies ... \u001b[?25l\u001b[?25hdone\n",
            "  Getting requirements to build wheel ... \u001b[?25l\u001b[?25hdone\n",
            "    Preparing wheel metadata ... \u001b[?25l\u001b[?25hdone\n",
            "  Building wheel for gdown (PEP 517) ... \u001b[?25l\u001b[?25hdone\n"
          ]
        }
      ],
      "metadata": {
        "colab": {
          "base_uri": "https://localhost:8080/"
        },
        "id": "7awB2hcYJ6yf",
        "outputId": "89b29bfe-bf61-4bcb-a72d-2def5f9db21d"
      }
    },
    {
      "cell_type": "code",
      "execution_count": null,
      "source": [
        "!unzip -q train_data1200.zip\n",
        "!unzip -q train_data600.zip\n",
        "!unzip -q final_test_dataset.zip"
      ],
      "outputs": [
        {
          "output_type": "stream",
          "name": "stdout",
          "text": [
            "unzip:  cannot find or open train_data1200.zip, train_data1200.zip.zip or train_data1200.zip.ZIP.\n",
            "unzip:  cannot find or open train_data600.zip, train_data600.zip.zip or train_data600.zip.ZIP.\n",
            "unzip:  cannot find or open final_test_dataset.zip, final_test_dataset.zip.zip or final_test_dataset.zip.ZIP.\n"
          ]
        }
      ],
      "metadata": {
        "colab": {
          "base_uri": "https://localhost:8080/"
        },
        "id": "oJNIYsGEK0ty",
        "outputId": "59b2c6ef-af58-4c38-fcee-b251ec63c181"
      }
    },
    {
      "cell_type": "markdown",
      "source": [
        "# Import Modules"
      ],
      "metadata": {
        "id": "vtuII7KlL2eK"
      }
    },
    {
      "cell_type": "code",
      "execution_count": null,
      "source": [
        "!pip install -q min2net"
      ],
      "outputs": [
        {
          "output_type": "stream",
          "name": "stdout",
          "text": [
            "\u001b[K     |████████████████████████████████| 58 kB 5.0 MB/s \n",
            "\u001b[K     |████████████████████████████████| 1.0 MB 30.8 MB/s \n",
            "\u001b[?25h  Building wheel for wget (setup.py) ... \u001b[?25l\u001b[?25hdone\n"
          ]
        }
      ],
      "metadata": {
        "colab": {
          "base_uri": "https://localhost:8080/"
        },
        "id": "yelbc0wtJyWX",
        "outputId": "2733fe40-a658-4b90-a00e-36a4ef419ee9"
      }
    },
    {
      "cell_type": "code",
      "execution_count": null,
      "source": [
        "import os\n",
        "import pandas as pd\n",
        "from glob import glob\n",
        "import matplotlib.pyplot as plt\n",
        "from seaborn import heatmap\n",
        "import scipy.signal as signal\n",
        "from scipy.fft import rfft, rfftfreq\n",
        "from tqdm.auto import tqdm\n",
        "from sklearn.model_selection import train_test_split\n",
        "from sklearn.preprocessing import StandardScaler, MinMaxScaler\n",
        "import tensorflow as tf\n",
        "import tensorflow.keras as keras\n",
        "from tensorflow.keras import backend as K\n",
        "from tensorflow.keras.optimizers import Adam\n",
        "from tensorflow.keras.models import Model, load_model\n",
        "from tensorflow.keras.layers import Input, Conv2D, Dense, Flatten, Dropout, BatchNormalization, Activation, \\\n",
        "MaxPooling2D, Conv1D, Conv1DTranspose, MaxPooling1D, Reshape\n",
        "from tensorflow.keras.constraints import max_norm\n",
        "from tensorflow.keras.callbacks import CSVLogger, ModelCheckpoint, EarlyStopping, ReduceLROnPlateau\n",
        "from min2net.utils import TimeHistory, compute_class_weight\n",
        "\n",
        "import pandas as pd\n",
        "import numpy as np\n",
        "import os\n",
        "import time\n",
        "from sklearn.metrics import classification_report, f1_score"
      ],
      "outputs": [
        {
          "output_type": "stream",
          "name": "stderr",
          "text": [
            "/usr/local/lib/python3.7/dist-packages/tensorflow_addons/utils/ensure_tf_install.py:68: UserWarning: Tensorflow Addons supports using Python ops for all Tensorflow versions above or equal to 2.1.0 and strictly below 2.3.0 (nightly versions are not supported). \n",
            " The versions of TensorFlow you are currently using is 2.8.0 and is not supported. \n",
            "Some things might work, some things might not.\n",
            "If you were to encounter a bug, do not file an issue.\n",
            "If you want to make sure you're using a tested and supported configuration, either change the TensorFlow version or the TensorFlow Addons's version. \n",
            "You can find the compatibility matrix in TensorFlow Addon's readme:\n",
            "https://github.com/tensorflow/addons\n",
            "  UserWarning,\n"
          ]
        }
      ],
      "metadata": {
        "colab": {
          "base_uri": "https://localhost:8080/"
        },
        "id": "y0z4ztPrL15T",
        "outputId": "3f5f3da3-a3f4-46fe-8a47-5cbf97d41047"
      }
    },
    {
      "cell_type": "markdown",
      "source": [
        "# Create Giant DataFrame"
      ],
      "metadata": {
        "id": "A_OnXFRHbzJ_"
      }
    },
    {
      "cell_type": "code",
      "execution_count": null,
      "source": [
        "def load_fix_df(froot, fname, label=False):\n",
        "  df = pd.read_csv(f\"{froot}/{fname}\")\n",
        "  fr = df.columns\n",
        "  if label:\n",
        "    df.columns = [\"filename\", \"label\"]\n",
        "    df_new = pd.DataFrame({\"filename\": [fr[0]], \"label\": [fr[1]]})\n",
        "    df_new[\"label\"] = df_new[\"label\"].astype(int)\n",
        "  else:\n",
        "    df.columns = [\"ax\", \"ay\", \"az\"]\n",
        "    df_new = pd.DataFrame({\"ax\": [fr[0]], \"ay\": [fr[1]], \"az\": [fr[2]]})\n",
        "  df_new = pd.concat([df, df_new], axis=0, ignore_index=True)\n",
        "  if not label:\n",
        "    df_new = df_new.astype(float)\n",
        "  df_new[\"root\"] = [froot for _ in range(len(df_new))]\n",
        "  return df_new"
      ],
      "outputs": [],
      "metadata": {
        "id": "ZnS6MQ_ab2UR"
      }
    },
    {
      "cell_type": "code",
      "execution_count": null,
      "source": [
        "df_600 = load_fix_df('train_data600', 'label.csv', label=True)\n",
        "df_600.info()"
      ],
      "outputs": [
        {
          "output_type": "stream",
          "name": "stdout",
          "text": [
            "<class 'pandas.core.frame.DataFrame'>\n",
            "RangeIndex: 29000 entries, 0 to 28999\n",
            "Data columns (total 3 columns):\n",
            " #   Column    Non-Null Count  Dtype \n",
            "---  ------    --------------  ----- \n",
            " 0   filename  29000 non-null  object\n",
            " 1   label     29000 non-null  int64 \n",
            " 2   root      29000 non-null  object\n",
            "dtypes: int64(1), object(2)\n",
            "memory usage: 679.8+ KB\n"
          ]
        }
      ],
      "metadata": {
        "colab": {
          "base_uri": "https://localhost:8080/"
        },
        "id": "CgKP1JcRchYX",
        "outputId": "3e12c6c7-4edf-4176-afb6-a4936e4f75fa"
      }
    },
    {
      "cell_type": "code",
      "execution_count": null,
      "source": [
        "df_600.head()"
      ],
      "outputs": [],
      "metadata": {
        "colab": {
          "base_uri": "https://localhost:8080/",
          "height": 206
        },
        "id": "eLBjISV-cqOO",
        "outputId": "e750119d-a9c4-45bc-c8ca-321c461486e6"
      }
    },
    {
      "cell_type": "code",
      "execution_count": null,
      "source": [
        "df_600.tail()"
      ],
      "outputs": [],
      "metadata": {
        "colab": {
          "base_uri": "https://localhost:8080/",
          "height": 206
        },
        "id": "Be2TmeHncruw",
        "outputId": "dfef59cd-28b2-4820-d8a7-5ce30a32590e"
      }
    },
    {
      "cell_type": "code",
      "execution_count": null,
      "source": [
        "df_1200 = load_fix_df('train_data1200', 'label.csv', label=True)\n",
        "df_1200.info()"
      ],
      "outputs": [],
      "metadata": {
        "colab": {
          "base_uri": "https://localhost:8080/"
        },
        "id": "rk9nXjY5ct8Y",
        "outputId": "41444050-a855-487d-debf-6c529c33f7f1"
      }
    },
    {
      "cell_type": "code",
      "execution_count": null,
      "source": [
        "df_1200.head()"
      ],
      "outputs": [],
      "metadata": {
        "colab": {
          "base_uri": "https://localhost:8080/",
          "height": 206
        },
        "id": "Qf8bxyEkc4qL",
        "outputId": "08274567-1f66-4059-8f62-03709639efe9"
      }
    },
    {
      "cell_type": "code",
      "execution_count": null,
      "source": [
        "df_1200.tail()"
      ],
      "outputs": [],
      "metadata": {
        "colab": {
          "base_uri": "https://localhost:8080/",
          "height": 206
        },
        "id": "LKMMOIbCc6Hd",
        "outputId": "bf7faa59-7c62-4ae0-d24a-004426e9886f"
      }
    },
    {
      "cell_type": "code",
      "execution_count": null,
      "source": [
        "df_all = pd.concat([df_600, df_1200], axis=0, ignore_index=True)\n",
        "df_all.info()"
      ],
      "outputs": [],
      "metadata": {
        "colab": {
          "base_uri": "https://localhost:8080/"
        },
        "id": "2gNda1Kdc9Oh",
        "outputId": "5bedd7a7-2e51-421d-ae79-1a117b82575a"
      }
    },
    {
      "cell_type": "markdown",
      "source": [
        "# Preview Data"
      ],
      "metadata": {
        "id": "xeltMACTLxi5"
      }
    },
    {
      "cell_type": "code",
      "execution_count": null,
      "source": [
        "FS = 51200\n",
        "NFT = 12500\n",
        "\n",
        "\n",
        "def encode_case(x):\n",
        "  if x==0:\n",
        "    return 0, 0\n",
        "  elif x in [1, 2, 3]:\n",
        "    return 1, 3\n",
        "  elif x in [4, 5, 6]:\n",
        "    return 2, 6\n",
        "  elif x in [7, 8, 9, 10]:\n",
        "    return 3, 9\n",
        "  elif x in [11, 12, 13]:\n",
        "    return 4, 13\n",
        "  elif x in [14, 15, 16]:\n",
        "    return 5, 16\n",
        "  elif x in [17, 18, 19]:\n",
        "    return 6, 19\n",
        "  elif x in [20, 21, 22]:\n",
        "    return 7, 22\n",
        "  elif x in [23, 24, 25]:\n",
        "    return 8, 25\n",
        "  elif x in [26, 27, 28]:\n",
        "    return 9, 28\n",
        "  else:\n",
        "    raise Exception(\"Invalid Fault Code\")\n",
        "\n",
        "\n",
        "def plot_tdomain(data, tmin=None, tmax=None, Fs=None):\n",
        "  if Fs is None:\n",
        "    Fs = FS\n",
        "  t_axis = np.arange(len(data)) * (1/Fs)\n",
        "  fig, ax = plt.subplots(1, 1, figsize=[10, 2])\n",
        "  fig.tight_layout(pad=2)\n",
        "  imin, imax = 0, len(data)\n",
        "  if tmin is not None:\n",
        "    imin = round(tmin*Fs)\n",
        "  if tmax is not None:\n",
        "    imax = round(tmax*Fs)\n",
        "  ax.plot(t_axis[imin:imax], data[imin:imax])\n",
        "  ax.set_title(f\"Time Domain\")\n",
        "  ax.set_xlabel(\"Time (s)\")\n",
        "  ax.set_ylabel(\"Amplitude\")\n",
        "  ax.grid('on')\n",
        "  plt.show()\n",
        "\n",
        "\n",
        "def plot_fdomain(data, fmin=None, fmax=None, Fs=None, tmin=None, tmax=None, localize=False, power=False, subtract_mean=False):\n",
        "  if Fs is None:\n",
        "    Fs = FS\n",
        "  imin, imax = 0, len(data)\n",
        "  if tmin is not None:\n",
        "    imin = round(tmin*Fs)\n",
        "  if tmax is not None:\n",
        "    imax = round(tmax*Fs)\n",
        "  data = data[imin:imax]\n",
        "  f_axis = rfftfreq(len(data), 1/Fs)\n",
        "  ARR = rfft(data)\n",
        "  magnitude = np.abs(ARR)**2 if power else np.abs(ARR)\n",
        "  fig, ax = plt.subplots(1, 1, figsize=[10, 2])\n",
        "  fig.tight_layout(pad=2)\n",
        "  imin, imax = 0, len(ARR)\n",
        "  if fmin is not None:\n",
        "    imin = round(fmin/(Fs/2)*len(ARR))\n",
        "  if fmax is not None:\n",
        "    imax = round(fmax/(Fs/2)*len(ARR))\n",
        "  F = f_axis[imin:imax]\n",
        "  M = magnitude[imin:imax]\n",
        "  if subtract_mean:\n",
        "    M -= M.mean()\n",
        "  if localize:\n",
        "    peak_locs = signal.find_peaks(M)[0]\n",
        "    peak_vals = M[peak_locs]\n",
        "    M = np.zeros_like(M)\n",
        "    M[peak_locs] = peak_vals\n",
        "    M = (M-M.mean()) / M.std()\n",
        "  ax.plot(F, M)\n",
        "  ax.set_title(f\"Frequency Domain\")\n",
        "  ax.set_xlabel(\"Frequency (Hz)\")\n",
        "  ax.set_ylabel(\"Power\" if power else \"Magnitude\")\n",
        "  ax.grid('on')\n",
        "  plt.show()\n",
        "\n",
        "\n",
        "def preview_case(case, index=None):\n",
        "  global df_600\n",
        "  if index is None:\n",
        "    index = np.random.randint(0, 999)\n",
        "  fname, _, froot = df_600[df_600['label']==case].iloc[index]\n",
        "  noisy = load_fix_df(froot, fname, label=False)\n",
        "  noisy = noisy[['ax', 'ay', 'az']].to_numpy().T\n",
        "  _, clean_case = encode_case(case)\n",
        "  clean = load_fix_df('clean_data-rpm600-duration1s', f'case{clean_case}.csv', label=False)\n",
        "  clean = clean[['ax', 'ay', 'az']].to_numpy().T\n",
        "  return noisy, clean[:noisy.shape[-1]]"
      ],
      "outputs": [],
      "metadata": {
        "id": "1ehUt1WHLxJZ"
      }
    },
    {
      "cell_type": "code",
      "execution_count": null,
      "source": [
        "case = 0  # Fault Code\n",
        "axis = 0  # ax, ay, az\n",
        "\n",
        "demo_noisy, demo_clean = preview_case(case)\n",
        "noisy = signal.resample(demo_noisy[axis], 500, axis=-1)\n",
        "clean = signal.resample(demo_clean[axis], 500, axis=-1)\n",
        "plot_tdomain(noisy, tmax=0.05)\n",
        "plot_tdomain(clean, tmax=0.05)\n",
        "plot_fdomain(noisy, fmax=100, Fs=FS/(12500/500))\n",
        "plot_fdomain(clean, fmax=100, Fs=FS/(12500/500))"
      ],
      "outputs": [
        {
          "output_type": "display_data",
          "data": {
            "image/png": "[encoded data removed]",
            "text/plain": [
              "<Figure size 720x144 with 1 Axes>"
            ]
          },
          "metadata": {
            "needs_background": "light"
          }
        },
        {
          "output_type": "display_data",
          "data": {
            "image/png": "[encoded data removed]",
            "text/plain": [
              "<Figure size 720x144 with 1 Axes>"
            ]
          },
          "metadata": {
            "needs_background": "light"
          }
        },
        {
          "output_type": "display_data",
          "data": {
            "image/png": "[encoded data removed]",
            "text/plain": [
              "<Figure size 720x144 with 1 Axes>"
            ]
          },
          "metadata": {
            "needs_background": "light"
          }
        },
        {
          "output_type": "display_data",
          "data": {
            "image/png": "[encoded data removed]",
            "text/plain": [
              "<Figure size 720x144 with 1 Axes>"
            ]
          },
          "metadata": {
            "needs_background": "light"
          }
        }
      ],
      "metadata": {
        "colab": {
          "base_uri": "https://localhost:8080/",
          "height": 593
        },
        "id": "f0BYfbBDK9u2",
        "outputId": "bd2d3616-3a3a-472f-db42-0fcac5ccbefe"
      }
    },
    {
      "cell_type": "markdown",
      "source": [
        "# Model-Based Denoising"
      ],
      "metadata": {
        "id": "r0t00rcDiivp"
      }
    },
    {
      "cell_type": "markdown",
      "source": [
        "# Creating FFT Denoising"
      ],
      "metadata": {
        "id": "NSiWuzhIpl_t"
      }
    },
    {
      "cell_type": "code",
      "execution_count": null,
      "source": [
        "(FS / (12500/500)) / 2"
      ],
      "outputs": [
        {
          "output_type": "execute_result",
          "data": {
            "text/plain": [
              "1024.0"
            ]
          },
          "metadata": {},
          "execution_count": 84
        }
      ],
      "metadata": {
        "colab": {
          "base_uri": "https://localhost:8080/"
        },
        "id": "pdKIgTSgweJg",
        "outputId": "6a403afc-e21c-4b79-e47b-a1e9b6eaf7d5"
      }
    },
    {
      "cell_type": "code",
      "execution_count": null,
      "source": [
        "(500/(NFT/2)) * 1024.0"
      ],
      "outputs": [
        {
          "output_type": "execute_result",
          "data": {
            "text/plain": [
              "81.92"
            ]
          },
          "metadata": {},
          "execution_count": 86
        }
      ],
      "metadata": {
        "colab": {
          "base_uri": "https://localhost:8080/"
        },
        "id": "jLbKUsW-b55J",
        "outputId": "e6306c77-79d1-414c-dcbc-627d0edbd0dd"
      }
    },
    {
      "cell_type": "code",
      "execution_count": null,
      "source": [
        "case = 0  # Fault Code\n",
        "axis = 0  # ax, ay, az\n",
        "\n",
        "demo_noisy, demo_clean = preview_case(case)\n",
        "\n",
        "_noisy = signal.resample(demo_noisy, 500, axis=-1)\n",
        "_clean = signal.resample(demo_clean, 500, axis=-1)\n",
        "_noisy -= _noisy.mean(axis=-1)[..., None]\n",
        "_clean -= _clean.mean(axis=-1)[..., None]\n",
        "_noisy = np.abs(rfft(_noisy, n=NFT, axis=-1))[:, :500]\n",
        "_clean = np.abs(rfft(_clean, n=NFT, axis=-1))[:, :500]\n",
        "plt.plot(_noisy[0])\n",
        "plt.show()\n",
        "plt.plot(_clean[0])\n",
        "plt.show()"
      ],
      "outputs": [
        {
          "output_type": "display_data",
          "data": {
            "image/png": "[encoded data removed]",
            "text/plain": [
              "<Figure size 432x288 with 1 Axes>"
            ]
          },
          "metadata": {
            "needs_background": "light"
          }
        },
        {
          "output_type": "display_data",
          "data": {
            "image/png": "[encoded data removed]",
            "text/plain": [
              "<Figure size 432x288 with 1 Axes>"
            ]
          },
          "metadata": {
            "needs_background": "light"
          }
        }
      ],
      "metadata": {
        "colab": {
          "base_uri": "https://localhost:8080/",
          "height": 513
        },
        "id": "jD1XkWA-ub4Z",
        "outputId": "e7e23549-ff41-467c-a01f-30933b537b8f"
      }
    },
    {
      "cell_type": "code",
      "execution_count": null,
      "source": [
        "import numpy\n",
        "import matplotlib.pyplot as plt\n",
        "\n",
        "mean = 0\n",
        "std = 1 \n",
        "num_samples = 1000\n",
        "samples = numpy.random.normal(mean, std, size=num_samples)\n",
        "\n",
        "plt.plot(samples)\n",
        "plt.show()"
      ],
      "outputs": [
        {
          "output_type": "display_data",
          "data": {
            "image/png": "[encoded data removed]",
            "text/plain": [
              "<Figure size 432x288 with 1 Axes>"
            ]
          },
          "metadata": {
            "needs_background": "light"
          }
        }
      ],
      "metadata": {
        "colab": {
          "base_uri": "https://localhost:8080/",
          "height": 265
        },
        "id": "uSdwezPu5tEm",
        "outputId": "0eae1cb4-5b77-4690-9ca5-5f9d515d0667"
      }
    },
    {
      "cell_type": "code",
      "execution_count": null,
      "source": [
        "A = np.fft.rfft(samples)\n",
        "plt.plot(np.abs(A))\n",
        "plt.show()"
      ],
      "outputs": [
        {
          "output_type": "display_data",
          "data": {
            "image/png": "[encoded data removed]",
            "text/plain": [
              "<Figure size 432x288 with 1 Axes>"
            ]
          },
          "metadata": {
            "needs_background": "light"
          }
        }
      ],
      "metadata": {
        "colab": {
          "base_uri": "https://localhost:8080/",
          "height": 265
        },
        "id": "fcTiL-hD56Vi",
        "outputId": "b2a9e114-910c-4b2e-8346-46800c7d153b"
      }
    },
    {
      "cell_type": "code",
      "execution_count": null,
      "source": [
        "print(rfft(_noisy, n=NFT, axis=-1).shape)"
      ],
      "outputs": [
        {
          "output_type": "stream",
          "name": "stdout",
          "text": [
            "(3, 6251)\n"
          ]
        }
      ],
      "metadata": {
        "colab": {
          "base_uri": "https://localhost:8080/"
        },
        "id": "bg7ggicKjoaL",
        "outputId": "731f07e7-0b73-462c-93e6-6a2d02e69645"
      }
    },
    {
      "cell_type": "code",
      "execution_count": null,
      "source": [
        "std = StandardScaler()\n",
        "mms = MinMaxScaler()\n",
        "\n",
        "\n",
        "def preprocess_single_data(data):\n",
        "  global mms\n",
        "  data = signal.resample(data, 500, axis=0)\n",
        "  data = np.abs(rfft(data, n=NFT, axis=0))\n",
        "  data = data[:500]\n",
        "  data = mms.fit_transform(data)\n",
        "  return data\n",
        "\n",
        "\n",
        "LABELS = []\n",
        "for label in tqdm([0, 3, 6, 9, 13, 16, 19, 22, 25, 28]):\n",
        "  label = load_fix_df('clean_data-rpm600-duration1s', f'case{label}.csv', label=False)\n",
        "  label = np.stack([label['ax'].to_numpy(), label['ay'].to_numpy(), label['az'].to_numpy()], axis=1)\n",
        "  label = preprocess_single_data(label)\n",
        "  LABELS.append(label)"
      ],
      "outputs": [
        {
          "output_type": "display_data",
          "data": {
            "application/vnd.jupyter.widget-view+json": {
              "model_id": "38bb6ea8ff99461da11e3f823fa9a4d6",
              "version_major": 2,
              "version_minor": 0
            },
            "text/plain": [
              "  0%|          | 0/10 [00:00<?, ?it/s]"
            ]
          },
          "metadata": {}
        }
      ],
      "metadata": {
        "colab": {
          "base_uri": "https://localhost:8080/",
          "height": 49,
          "referenced_widgets": [
            "38bb6ea8ff99461da11e3f823fa9a4d6",
            "b3cb2444dc3049fb8c8f5e0d1b3bfeeb",
            "fec6bd4bc8a94a6eafb58c390e72e2d7",
            "ee43bafd9eb54d4fb3b01993bb8f0b81",
            "a4653c6ec6a04a1386a1d6b8020a49e3",
            "d9ec993d76fa4fe3ba3660856f006dc2",
            "07af13ea8dba402c9ad15bd9bffa06df",
            "9407c5b2a0274761afeee760f44de042",
            "0c02736b73ef4595b76e6017570c9d1b",
            "18cb95e4b60a42878c8a6dc8872d17fe",
            "1ca7ded2c6ef4e27aabb3c7f5b3743f4"
          ]
        },
        "id": "cFPg6WJw2oiy",
        "outputId": "1d152d61-11de-47eb-ba43-342b80bab0a7"
      }
    },
    {
      "cell_type": "code",
      "execution_count": null,
      "source": [
        "class FFTDataset():\n",
        "  def __init__(self, df):\n",
        "    self.df = df\n",
        "\n",
        "  def __len__(self):\n",
        "    return len(self.df)\n",
        "\n",
        "  def __getitem__(self, idx):\n",
        "    fname, label, froot = self.df.iloc[idx].tolist()\n",
        "    fname = fname.replace('test', 'train')\n",
        "    data = load_fix_df(froot, fname, label=False)\n",
        "    data = np.stack([data['ax'].to_numpy(), data['ay'].to_numpy(), data['az'].to_numpy()], axis=1)\n",
        "    data = preprocess_single_data(data)\n",
        "    label, _ = encode_case(int(label))\n",
        "    label = LABELS[label]\n",
        "    return data, label\n",
        "\n",
        "  def __call__(self):\n",
        "    for i in range(self.__len__()):\n",
        "      yield self.__getitem__(i)\n",
        "\n",
        "  \n",
        "class FFTDAE(tf.keras.Model):\n",
        "  def __init__(self):\n",
        "    super(FFTDAE, self).__init__()\n",
        "    self.conv1 = Conv1D(128, 50, strides=1, padding='same', activation='relu')\n",
        "    self.bn1 = BatchNormalization()\n",
        "    self.pool1 = MaxPooling1D()\n",
        "    self.conv2 = Conv1D(32, 50, strides=1, padding='same', activation='relu')\n",
        "    self.bn2 = BatchNormalization()\n",
        "    self.pool2 = MaxPooling1D()\n",
        "    self.flatten = Flatten()\n",
        "    self.fc1 = Dense(1600, activation='relu')\n",
        "    self.fc2 = Dense(1600, activation='relu')\n",
        "    self.fc3 = Dense(4000, activation='relu')\n",
        "    self.reshape = Reshape((125, 32))\n",
        "    self.deconv2_ = Conv1DTranspose(32, 50, strides=2, padding='same', activation='relu') \n",
        "    self.bn2_ = BatchNormalization()\n",
        "    self.deconv1_ = Conv1DTranspose(128, 50, strides=2, padding='same', activation='relu') \n",
        "    self.bn1_ = BatchNormalization()\n",
        "    self.deconv_out = Conv1DTranspose(3, 50, strides=1, padding='same', activation='relu')\n",
        "\n",
        "  def call(self, x):\n",
        "    x = self.conv1(x)\n",
        "    x = self.bn1(x)\n",
        "    x = self.pool1(x)\n",
        "    x = self.conv2(x)\n",
        "    x = self.bn2(x)\n",
        "    x = self.pool2(x)\n",
        "    # print(x.shape)\n",
        "    x = self.flatten(x)\n",
        "    x = self.fc1(x)\n",
        "    x = self.fc2(x)\n",
        "    x = self.fc3(x)\n",
        "    # print(x.shape)\n",
        "    x = self.reshape(x)\n",
        "    x = self.deconv2_(x)\n",
        "    x = self.bn2_(x)\n",
        "    x = self.deconv1_(x)\n",
        "    x = self.bn1_(x)\n",
        "    x = self.deconv_out(x)\n",
        "    return x"
      ],
      "outputs": [],
      "metadata": {
        "id": "C8Ocyd8GwxI2"
      }
    },
    {
      "cell_type": "code",
      "execution_count": null,
      "source": [
        "dae = FFTDAE()\n",
        "dae(np.random.rand(1, 500, 3))\n",
        "opt = tf.keras.optimizers.Adam(learning_rate=1e-3)\n",
        "loss = keras.losses.BinaryCrossentropy(from_logits=False)\n",
        "dae.compile(optimizer=opt, loss=loss)\n",
        "print(dae.summary())"
      ],
      "outputs": [
        {
          "output_type": "stream",
          "name": "stdout",
          "text": [
            "Model: \"fftdae_1\"\n",
            "_________________________________________________________________\n",
            " Layer (type)                Output Shape              Param #   \n",
            "=================================================================\n",
            " conv1d_2 (Conv1D)           multiple                  19328     \n",
            "                                                                 \n",
            " batch_normalization_16 (Bat  multiple                 512       \n",
            " chNormalization)                                                \n",
            "                                                                 \n",
            " max_pooling1d_2 (MaxPooling  multiple                 0         \n",
            " 1D)                                                             \n",
            "                                                                 \n",
            " conv1d_3 (Conv1D)           multiple                  204832    \n",
            "                                                                 \n",
            " batch_normalization_17 (Bat  multiple                 128       \n",
            " chNormalization)                                                \n",
            "                                                                 \n",
            " max_pooling1d_3 (MaxPooling  multiple                 0         \n",
            " 1D)                                                             \n",
            "                                                                 \n",
            " flatten_4 (Flatten)         multiple                  0         \n",
            "                                                                 \n",
            " dense_6 (Dense)             multiple                  6401600   \n",
            "                                                                 \n",
            " dense_7 (Dense)             multiple                  2561600   \n",
            "                                                                 \n",
            " dense_8 (Dense)             multiple                  6404000   \n",
            "                                                                 \n",
            " reshape_1 (Reshape)         multiple                  0         \n",
            "                                                                 \n",
            " conv1d_transpose_3 (Conv1DT  multiple                 51232     \n",
            " ranspose)                                                       \n",
            "                                                                 \n",
            " batch_normalization_18 (Bat  multiple                 128       \n",
            " chNormalization)                                                \n",
            "                                                                 \n",
            " conv1d_transpose_4 (Conv1DT  multiple                 204928    \n",
            " ranspose)                                                       \n",
            "                                                                 \n",
            " batch_normalization_19 (Bat  multiple                 512       \n",
            " chNormalization)                                                \n",
            "                                                                 \n",
            " conv1d_transpose_5 (Conv1DT  multiple                 19203     \n",
            " ranspose)                                                       \n",
            "                                                                 \n",
            "=================================================================\n",
            "Total params: 15,868,003\n",
            "Trainable params: 15,867,363\n",
            "Non-trainable params: 640\n",
            "_________________________________________________________________\n",
            "None\n"
          ]
        }
      ],
      "metadata": {
        "colab": {
          "base_uri": "https://localhost:8080/"
        },
        "id": "TU6hO_9Ypq50",
        "outputId": "198af8fc-85a6-4dc9-d672-4f600df65f9b"
      }
    },
    {
      "cell_type": "code",
      "execution_count": null,
      "source": [
        "EPOCHS = 40\n",
        "BATCH_SIZE = 32\n",
        "ES = [\n",
        "  keras.callbacks.ReduceLROnPlateau(monitor='val_loss', factor=0.5, patience=2),\n",
        "  keras.callbacks.EarlyStopping(monitor='val_loss', patience=3, restore_best_weights=True)\n",
        "]\n",
        "OS = (\n",
        "  tf.TensorSpec(shape=(500, 3), dtype=tf.float32),\n",
        "  tf.TensorSpec(shape=(500, 3), dtype=tf.float32)\n",
        ")\n",
        "\n",
        "df_train = df_all[df_all['label']!=29]\n",
        "\n",
        "df_train, df_test = train_test_split(df_train, test_size=0.30, shuffle=True)\n",
        "df_valid, df_test = train_test_split(df_test, test_size=0.50, shuffle=False)\n",
        "\n",
        "train_generator = FFTDataset(df_train)\n",
        "valid_generator = FFTDataset(df_valid)\n",
        "train_dataset = tf.data.Dataset.from_generator(train_generator, output_signature=OS).batch(BATCH_SIZE)\n",
        "valid_dataset = tf.data.Dataset.from_generator(valid_generator, output_signature=OS).batch(BATCH_SIZE)"
      ],
      "outputs": [],
      "metadata": {
        "id": "umKarBrE7QR7"
      }
    },
    {
      "cell_type": "code",
      "execution_count": null,
      "source": [
        "history = dae.fit(train_dataset, epochs=EPOCHS, validation_data=valid_dataset, callbacks=ES)"
      ],
      "outputs": [
        {
          "output_type": "stream",
          "name": "stdout",
          "text": [
            "Epoch 1/40\n",
            "1269/1269 [==============================] - 1062s 836ms/step - loss: 1.8755 - val_loss: 1.6541 - lr: 0.0010\n",
            "Epoch 2/40\n",
            "1269/1269 [==============================] - 1034s 815ms/step - loss: 2.0794 - val_loss: 3.5825 - lr: 0.0010\n",
            "Epoch 3/40\n",
            "1269/1269 [==============================] - 1036s 817ms/step - loss: 3.5623 - val_loss: 3.3627 - lr: 0.0010\n",
            "Epoch 4/40\n",
            "1269/1269 [==============================] - 1039s 819ms/step - loss: 1.2377 - val_loss: 0.6193 - lr: 5.0000e-04\n",
            "Epoch 5/40\n",
            "1269/1269 [==============================] - 1044s 823ms/step - loss: 0.4307 - val_loss: 0.3938 - lr: 5.0000e-04\n",
            "Epoch 6/40\n",
            "  38/1269 [..............................] - ETA: 13:58 - loss: 0.4688"
          ]
        },
        {
          "output_type": "error",
          "ename": "KeyboardInterrupt",
          "evalue": "ignored",
          "traceback": [
            "\u001b[0;31m---------------------------------------------------------------------------\u001b[0m",
            "\u001b[0;31mKeyboardInterrupt\u001b[0m                         Traceback (most recent call last)",
            "\u001b[0;32m<ipython-input-55-58f2fbd0a14f>\u001b[0m in \u001b[0;36m<module>\u001b[0;34m()\u001b[0m\n\u001b[0;32m----> 1\u001b[0;31m \u001b[0mhistory\u001b[0m \u001b[0;34m=\u001b[0m \u001b[0mdae\u001b[0m\u001b[0;34m.\u001b[0m\u001b[0mfit\u001b[0m\u001b[0;34m(\u001b[0m\u001b[0mtrain_dataset\u001b[0m\u001b[0;34m,\u001b[0m \u001b[0mepochs\u001b[0m\u001b[0;34m=\u001b[0m\u001b[0mEPOCHS\u001b[0m\u001b[0;34m,\u001b[0m \u001b[0mvalidation_data\u001b[0m\u001b[0;34m=\u001b[0m\u001b[0mvalid_dataset\u001b[0m\u001b[0;34m,\u001b[0m \u001b[0mcallbacks\u001b[0m\u001b[0;34m=\u001b[0m\u001b[0mES\u001b[0m\u001b[0;34m)\u001b[0m\u001b[0;34m\u001b[0m\u001b[0;34m\u001b[0m\u001b[0m\n\u001b[0m",
            "\u001b[0;32m/usr/local/lib/python3.7/dist-packages/keras/utils/traceback_utils.py\u001b[0m in \u001b[0;36merror_handler\u001b[0;34m(*args, **kwargs)\u001b[0m\n\u001b[1;32m     62\u001b[0m     \u001b[0mfiltered_tb\u001b[0m \u001b[0;34m=\u001b[0m \u001b[0;32mNone\u001b[0m\u001b[0;34m\u001b[0m\u001b[0;34m\u001b[0m\u001b[0m\n\u001b[1;32m     63\u001b[0m     \u001b[0;32mtry\u001b[0m\u001b[0;34m:\u001b[0m\u001b[0;34m\u001b[0m\u001b[0;34m\u001b[0m\u001b[0m\n\u001b[0;32m---> 64\u001b[0;31m       \u001b[0;32mreturn\u001b[0m \u001b[0mfn\u001b[0m\u001b[0;34m(\u001b[0m\u001b[0;34m*\u001b[0m\u001b[0margs\u001b[0m\u001b[0;34m,\u001b[0m \u001b[0;34m**\u001b[0m\u001b[0mkwargs\u001b[0m\u001b[0;34m)\u001b[0m\u001b[0;34m\u001b[0m\u001b[0;34m\u001b[0m\u001b[0m\n\u001b[0m\u001b[1;32m     65\u001b[0m     \u001b[0;32mexcept\u001b[0m \u001b[0mException\u001b[0m \u001b[0;32mas\u001b[0m \u001b[0me\u001b[0m\u001b[0;34m:\u001b[0m  \u001b[0;31m# pylint: disable=broad-except\u001b[0m\u001b[0;34m\u001b[0m\u001b[0;34m\u001b[0m\u001b[0m\n\u001b[1;32m     66\u001b[0m       \u001b[0mfiltered_tb\u001b[0m \u001b[0;34m=\u001b[0m \u001b[0m_process_traceback_frames\u001b[0m\u001b[0;34m(\u001b[0m\u001b[0me\u001b[0m\u001b[0;34m.\u001b[0m\u001b[0m__traceback__\u001b[0m\u001b[0;34m)\u001b[0m\u001b[0;34m\u001b[0m\u001b[0;34m\u001b[0m\u001b[0m\n",
            "\u001b[0;32m/usr/local/lib/python3.7/dist-packages/keras/engine/training.py\u001b[0m in \u001b[0;36mfit\u001b[0;34m(self, x, y, batch_size, epochs, verbose, callbacks, validation_split, validation_data, shuffle, class_weight, sample_weight, initial_epoch, steps_per_epoch, validation_steps, validation_batch_size, validation_freq, max_queue_size, workers, use_multiprocessing)\u001b[0m\n\u001b[1;32m   1382\u001b[0m                 _r=1):\n\u001b[1;32m   1383\u001b[0m               \u001b[0mcallbacks\u001b[0m\u001b[0;34m.\u001b[0m\u001b[0mon_train_batch_begin\u001b[0m\u001b[0;34m(\u001b[0m\u001b[0mstep\u001b[0m\u001b[0;34m)\u001b[0m\u001b[0;34m\u001b[0m\u001b[0;34m\u001b[0m\u001b[0m\n\u001b[0;32m-> 1384\u001b[0;31m               \u001b[0mtmp_logs\u001b[0m \u001b[0;34m=\u001b[0m \u001b[0mself\u001b[0m\u001b[0;34m.\u001b[0m\u001b[0mtrain_function\u001b[0m\u001b[0;34m(\u001b[0m\u001b[0miterator\u001b[0m\u001b[0;34m)\u001b[0m\u001b[0;34m\u001b[0m\u001b[0;34m\u001b[0m\u001b[0m\n\u001b[0m\u001b[1;32m   1385\u001b[0m               \u001b[0;32mif\u001b[0m \u001b[0mdata_handler\u001b[0m\u001b[0;34m.\u001b[0m\u001b[0mshould_sync\u001b[0m\u001b[0;34m:\u001b[0m\u001b[0;34m\u001b[0m\u001b[0;34m\u001b[0m\u001b[0m\n\u001b[1;32m   1386\u001b[0m                 \u001b[0mcontext\u001b[0m\u001b[0;34m.\u001b[0m\u001b[0masync_wait\u001b[0m\u001b[0;34m(\u001b[0m\u001b[0;34m)\u001b[0m\u001b[0;34m\u001b[0m\u001b[0;34m\u001b[0m\u001b[0m\n",
            "\u001b[0;32m/usr/local/lib/python3.7/dist-packages/tensorflow/python/util/traceback_utils.py\u001b[0m in \u001b[0;36merror_handler\u001b[0;34m(*args, **kwargs)\u001b[0m\n\u001b[1;32m    148\u001b[0m     \u001b[0mfiltered_tb\u001b[0m \u001b[0;34m=\u001b[0m \u001b[0;32mNone\u001b[0m\u001b[0;34m\u001b[0m\u001b[0;34m\u001b[0m\u001b[0m\n\u001b[1;32m    149\u001b[0m     \u001b[0;32mtry\u001b[0m\u001b[0;34m:\u001b[0m\u001b[0;34m\u001b[0m\u001b[0;34m\u001b[0m\u001b[0m\n\u001b[0;32m--> 150\u001b[0;31m       \u001b[0;32mreturn\u001b[0m \u001b[0mfn\u001b[0m\u001b[0;34m(\u001b[0m\u001b[0;34m*\u001b[0m\u001b[0margs\u001b[0m\u001b[0;34m,\u001b[0m \u001b[0;34m**\u001b[0m\u001b[0mkwargs\u001b[0m\u001b[0;34m)\u001b[0m\u001b[0;34m\u001b[0m\u001b[0;34m\u001b[0m\u001b[0m\n\u001b[0m\u001b[1;32m    151\u001b[0m     \u001b[0;32mexcept\u001b[0m \u001b[0mException\u001b[0m \u001b[0;32mas\u001b[0m \u001b[0me\u001b[0m\u001b[0;34m:\u001b[0m\u001b[0;34m\u001b[0m\u001b[0;34m\u001b[0m\u001b[0m\n\u001b[1;32m    152\u001b[0m       \u001b[0mfiltered_tb\u001b[0m \u001b[0;34m=\u001b[0m \u001b[0m_process_traceback_frames\u001b[0m\u001b[0;34m(\u001b[0m\u001b[0me\u001b[0m\u001b[0;34m.\u001b[0m\u001b[0m__traceback__\u001b[0m\u001b[0;34m)\u001b[0m\u001b[0;34m\u001b[0m\u001b[0;34m\u001b[0m\u001b[0m\n",
            "\u001b[0;32m/usr/local/lib/python3.7/dist-packages/tensorflow/python/eager/def_function.py\u001b[0m in \u001b[0;36m__call__\u001b[0;34m(self, *args, **kwds)\u001b[0m\n\u001b[1;32m    913\u001b[0m \u001b[0;34m\u001b[0m\u001b[0m\n\u001b[1;32m    914\u001b[0m       \u001b[0;32mwith\u001b[0m \u001b[0mOptionalXlaContext\u001b[0m\u001b[0;34m(\u001b[0m\u001b[0mself\u001b[0m\u001b[0;34m.\u001b[0m\u001b[0m_jit_compile\u001b[0m\u001b[0;34m)\u001b[0m\u001b[0;34m:\u001b[0m\u001b[0;34m\u001b[0m\u001b[0;34m\u001b[0m\u001b[0m\n\u001b[0;32m--> 915\u001b[0;31m         \u001b[0mresult\u001b[0m \u001b[0;34m=\u001b[0m \u001b[0mself\u001b[0m\u001b[0;34m.\u001b[0m\u001b[0m_call\u001b[0m\u001b[0;34m(\u001b[0m\u001b[0;34m*\u001b[0m\u001b[0margs\u001b[0m\u001b[0;34m,\u001b[0m \u001b[0;34m**\u001b[0m\u001b[0mkwds\u001b[0m\u001b[0;34m)\u001b[0m\u001b[0;34m\u001b[0m\u001b[0;34m\u001b[0m\u001b[0m\n\u001b[0m\u001b[1;32m    916\u001b[0m \u001b[0;34m\u001b[0m\u001b[0m\n\u001b[1;32m    917\u001b[0m       \u001b[0mnew_tracing_count\u001b[0m \u001b[0;34m=\u001b[0m \u001b[0mself\u001b[0m\u001b[0;34m.\u001b[0m\u001b[0mexperimental_get_tracing_count\u001b[0m\u001b[0;34m(\u001b[0m\u001b[0;34m)\u001b[0m\u001b[0;34m\u001b[0m\u001b[0;34m\u001b[0m\u001b[0m\n",
            "\u001b[0;32m/usr/local/lib/python3.7/dist-packages/tensorflow/python/eager/def_function.py\u001b[0m in \u001b[0;36m_call\u001b[0;34m(self, *args, **kwds)\u001b[0m\n\u001b[1;32m    945\u001b[0m       \u001b[0;31m# In this case we have created variables on the first call, so we run the\u001b[0m\u001b[0;34m\u001b[0m\u001b[0;34m\u001b[0m\u001b[0;34m\u001b[0m\u001b[0m\n\u001b[1;32m    946\u001b[0m       \u001b[0;31m# defunned version which is guaranteed to never create variables.\u001b[0m\u001b[0;34m\u001b[0m\u001b[0;34m\u001b[0m\u001b[0;34m\u001b[0m\u001b[0m\n\u001b[0;32m--> 947\u001b[0;31m       \u001b[0;32mreturn\u001b[0m \u001b[0mself\u001b[0m\u001b[0;34m.\u001b[0m\u001b[0m_stateless_fn\u001b[0m\u001b[0;34m(\u001b[0m\u001b[0;34m*\u001b[0m\u001b[0margs\u001b[0m\u001b[0;34m,\u001b[0m \u001b[0;34m**\u001b[0m\u001b[0mkwds\u001b[0m\u001b[0;34m)\u001b[0m  \u001b[0;31m# pylint: disable=not-callable\u001b[0m\u001b[0;34m\u001b[0m\u001b[0;34m\u001b[0m\u001b[0m\n\u001b[0m\u001b[1;32m    948\u001b[0m     \u001b[0;32melif\u001b[0m \u001b[0mself\u001b[0m\u001b[0;34m.\u001b[0m\u001b[0m_stateful_fn\u001b[0m \u001b[0;32mis\u001b[0m \u001b[0;32mnot\u001b[0m \u001b[0;32mNone\u001b[0m\u001b[0;34m:\u001b[0m\u001b[0;34m\u001b[0m\u001b[0;34m\u001b[0m\u001b[0m\n\u001b[1;32m    949\u001b[0m       \u001b[0;31m# Release the lock early so that multiple threads can perform the call\u001b[0m\u001b[0;34m\u001b[0m\u001b[0;34m\u001b[0m\u001b[0;34m\u001b[0m\u001b[0m\n",
            "\u001b[0;32m/usr/local/lib/python3.7/dist-packages/tensorflow/python/eager/function.py\u001b[0m in \u001b[0;36m__call__\u001b[0;34m(self, *args, **kwargs)\u001b[0m\n\u001b[1;32m   2955\u001b[0m        filtered_flat_args) = self._maybe_define_function(args, kwargs)\n\u001b[1;32m   2956\u001b[0m     return graph_function._call_flat(\n\u001b[0;32m-> 2957\u001b[0;31m         filtered_flat_args, captured_inputs=graph_function.captured_inputs)  # pylint: disable=protected-access\n\u001b[0m\u001b[1;32m   2958\u001b[0m \u001b[0;34m\u001b[0m\u001b[0m\n\u001b[1;32m   2959\u001b[0m   \u001b[0;34m@\u001b[0m\u001b[0mproperty\u001b[0m\u001b[0;34m\u001b[0m\u001b[0;34m\u001b[0m\u001b[0m\n",
            "\u001b[0;32m/usr/local/lib/python3.7/dist-packages/tensorflow/python/eager/function.py\u001b[0m in \u001b[0;36m_call_flat\u001b[0;34m(self, args, captured_inputs, cancellation_manager)\u001b[0m\n\u001b[1;32m   1852\u001b[0m       \u001b[0;31m# No tape is watching; skip to running the function.\u001b[0m\u001b[0;34m\u001b[0m\u001b[0;34m\u001b[0m\u001b[0;34m\u001b[0m\u001b[0m\n\u001b[1;32m   1853\u001b[0m       return self._build_call_outputs(self._inference_function.call(\n\u001b[0;32m-> 1854\u001b[0;31m           ctx, args, cancellation_manager=cancellation_manager))\n\u001b[0m\u001b[1;32m   1855\u001b[0m     forward_backward = self._select_forward_and_backward_functions(\n\u001b[1;32m   1856\u001b[0m         \u001b[0margs\u001b[0m\u001b[0;34m,\u001b[0m\u001b[0;34m\u001b[0m\u001b[0;34m\u001b[0m\u001b[0m\n",
            "\u001b[0;32m/usr/local/lib/python3.7/dist-packages/tensorflow/python/eager/function.py\u001b[0m in \u001b[0;36mcall\u001b[0;34m(self, ctx, args, cancellation_manager)\u001b[0m\n\u001b[1;32m    502\u001b[0m               \u001b[0minputs\u001b[0m\u001b[0;34m=\u001b[0m\u001b[0margs\u001b[0m\u001b[0;34m,\u001b[0m\u001b[0;34m\u001b[0m\u001b[0;34m\u001b[0m\u001b[0m\n\u001b[1;32m    503\u001b[0m               \u001b[0mattrs\u001b[0m\u001b[0;34m=\u001b[0m\u001b[0mattrs\u001b[0m\u001b[0;34m,\u001b[0m\u001b[0;34m\u001b[0m\u001b[0;34m\u001b[0m\u001b[0m\n\u001b[0;32m--> 504\u001b[0;31m               ctx=ctx)\n\u001b[0m\u001b[1;32m    505\u001b[0m         \u001b[0;32melse\u001b[0m\u001b[0;34m:\u001b[0m\u001b[0;34m\u001b[0m\u001b[0;34m\u001b[0m\u001b[0m\n\u001b[1;32m    506\u001b[0m           outputs = execute.execute_with_cancellation(\n",
            "\u001b[0;32m/usr/local/lib/python3.7/dist-packages/tensorflow/python/eager/execute.py\u001b[0m in \u001b[0;36mquick_execute\u001b[0;34m(op_name, num_outputs, inputs, attrs, ctx, name)\u001b[0m\n\u001b[1;32m     53\u001b[0m     \u001b[0mctx\u001b[0m\u001b[0;34m.\u001b[0m\u001b[0mensure_initialized\u001b[0m\u001b[0;34m(\u001b[0m\u001b[0;34m)\u001b[0m\u001b[0;34m\u001b[0m\u001b[0;34m\u001b[0m\u001b[0m\n\u001b[1;32m     54\u001b[0m     tensors = pywrap_tfe.TFE_Py_Execute(ctx._handle, device_name, op_name,\n\u001b[0;32m---> 55\u001b[0;31m                                         inputs, attrs, num_outputs)\n\u001b[0m\u001b[1;32m     56\u001b[0m   \u001b[0;32mexcept\u001b[0m \u001b[0mcore\u001b[0m\u001b[0;34m.\u001b[0m\u001b[0m_NotOkStatusException\u001b[0m \u001b[0;32mas\u001b[0m \u001b[0me\u001b[0m\u001b[0;34m:\u001b[0m\u001b[0;34m\u001b[0m\u001b[0;34m\u001b[0m\u001b[0m\n\u001b[1;32m     57\u001b[0m     \u001b[0;32mif\u001b[0m \u001b[0mname\u001b[0m \u001b[0;32mis\u001b[0m \u001b[0;32mnot\u001b[0m \u001b[0;32mNone\u001b[0m\u001b[0;34m:\u001b[0m\u001b[0;34m\u001b[0m\u001b[0;34m\u001b[0m\u001b[0m\n",
            "\u001b[0;31mKeyboardInterrupt\u001b[0m: "
          ]
        }
      ],
      "metadata": {
        "colab": {
          "base_uri": "https://localhost:8080/",
          "height": 518
        },
        "id": "H90du3wE-abd",
        "outputId": "a4ec9ea6-61e9-4f1f-9b2e-4580e3e3016a"
      }
    },
    {
      "cell_type": "code",
      "execution_count": null,
      "source": [
        "test_generator = FFTDataset(df_test)\n",
        "test_dataset = tf.data.Dataset.from_generator(test_generator, output_signature=OS).batch(BATCH_SIZE)\n",
        "dae_test_loss = dae.evaluate(test_dataset)\n",
        "print(dae_test_loss)"
      ],
      "outputs": [
        {
          "output_type": "stream",
          "name": "stdout",
          "text": [
            "272/272 [==============================] - 188s 691ms/step - loss: 3.8537\n",
            "3.8536946773529053\n"
          ]
        }
      ],
      "metadata": {
        "colab": {
          "base_uri": "https://localhost:8080/"
        },
        "id": "-RrZ2c_R-zzM",
        "outputId": "9a89549a-b54c-4c8e-ad23-9075144f9260"
      }
    },
    {
      "cell_type": "code",
      "execution_count": null,
      "source": [
        "dae.save('dae_500_1e-4', save_format='tf')"
      ],
      "outputs": [
        {
          "output_type": "stream",
          "name": "stdout",
          "text": [
            "INFO:tensorflow:Assets written to: dae_500_1e-4/assets\n"
          ]
        }
      ],
      "metadata": {
        "colab": {
          "base_uri": "https://localhost:8080/"
        },
        "id": "xHfdRBchFDpW",
        "outputId": "8abca28b-ad50-4dc2-f40d-b4c7771588b9"
      }
    },
    {
      "cell_type": "code",
      "execution_count": null,
      "source": [
        "dae = load_model('dae_500_1e-4')"
      ],
      "outputs": [],
      "metadata": {
        "id": "S-JWtu95abAD"
      }
    },
    {
      "cell_type": "code",
      "execution_count": null,
      "source": [
        "case = 19  # Fault Code\n",
        "axis = 0  # ax, ay, az\n",
        "\n",
        "demo_noisy, demo_clean = preview_case(case)\n",
        "\n",
        "_noisy = preprocess_single_data(demo_noisy.T)\n",
        "_clean = preprocess_single_data(demo_clean.T)\n",
        "_clean_pred = dae.predict(_noisy[None, :]).squeeze()\n",
        "\n",
        "_noisy = _noisy.T[axis]\n",
        "_clean = _clean.T[axis]\n",
        "_clean_pred = _clean_pred.T[axis]\n",
        "\n",
        "print(_noisy.shape)\n",
        "print(_clean.shape)\n",
        "print(_clean_pred.shape)\n",
        "\n",
        "plt.plot(_noisy)\n",
        "plt.show()\n",
        "plt.plot(_clean)\n",
        "plt.show()\n",
        "plt.plot(_clean_pred)\n",
        "plt.plot()"
      ],
      "outputs": [
        {
          "output_type": "stream",
          "name": "stdout",
          "text": [
            "(500,)\n",
            "(500,)\n",
            "(500,)\n"
          ]
        },
        {
          "output_type": "display_data",
          "data": {
            "image/png": "[encoded data removed]",
            "text/plain": [
              "<Figure size 432x288 with 1 Axes>"
            ]
          },
          "metadata": {
            "needs_background": "light"
          }
        },
        {
          "output_type": "display_data",
          "data": {
            "image/png": "[encoded data removed]",
            "text/plain": [
              "<Figure size 432x288 with 1 Axes>"
            ]
          },
          "metadata": {
            "needs_background": "light"
          }
        },
        {
          "output_type": "execute_result",
          "data": {
            "text/plain": [
              "[]"
            ]
          },
          "metadata": {},
          "execution_count": 60
        },
        {
          "output_type": "display_data",
          "data": {
            "image/png": "[encoded data removed]",
            "text/plain": [
              "<Figure size 432x288 with 1 Axes>"
            ]
          },
          "metadata": {
            "needs_background": "light"
          }
        }
      ],
      "metadata": {
        "colab": {
          "base_uri": "https://localhost:8080/",
          "height": 830
        },
        "id": "cOoGnP2FDSzY",
        "outputId": "561b4dd5-c3bb-415f-fc4e-06d73b7a7090"
      }
    },
    {
      "cell_type": "markdown",
      "source": [
        "# Fault Classification"
      ],
      "metadata": {
        "id": "nXPHlphFFMux"
      }
    },
    {
      "cell_type": "code",
      "execution_count": null,
      "source": [
        "dae = load_model('dae_1200_1e-3.h5')\n",
        "print(dae.summary())"
      ],
      "outputs": [
        {
          "output_type": "error",
          "ename": "OSError",
          "evalue": "ignored",
          "traceback": [
            "\u001b[0;31m---------------------------------------------------------------------------\u001b[0m",
            "\u001b[0;31mOSError\u001b[0m                                   Traceback (most recent call last)",
            "\u001b[0;32m<ipython-input-149-ecaa2c1719c8>\u001b[0m in \u001b[0;36m<module>\u001b[0;34m()\u001b[0m\n\u001b[0;32m----> 1\u001b[0;31m \u001b[0mdae\u001b[0m \u001b[0;34m=\u001b[0m \u001b[0mload_model\u001b[0m\u001b[0;34m(\u001b[0m\u001b[0;34m'dae_1200_1e-3.h5'\u001b[0m\u001b[0;34m)\u001b[0m\u001b[0;34m\u001b[0m\u001b[0;34m\u001b[0m\u001b[0m\n\u001b[0m\u001b[1;32m      2\u001b[0m \u001b[0mprint\u001b[0m\u001b[0;34m(\u001b[0m\u001b[0mdae\u001b[0m\u001b[0;34m.\u001b[0m\u001b[0msummary\u001b[0m\u001b[0;34m(\u001b[0m\u001b[0;34m)\u001b[0m\u001b[0;34m)\u001b[0m\u001b[0;34m\u001b[0m\u001b[0;34m\u001b[0m\u001b[0m\n",
            "\u001b[0;32m/usr/local/lib/python3.7/dist-packages/keras/utils/traceback_utils.py\u001b[0m in \u001b[0;36merror_handler\u001b[0;34m(*args, **kwargs)\u001b[0m\n\u001b[1;32m     65\u001b[0m     \u001b[0;32mexcept\u001b[0m \u001b[0mException\u001b[0m \u001b[0;32mas\u001b[0m \u001b[0me\u001b[0m\u001b[0;34m:\u001b[0m  \u001b[0;31m# pylint: disable=broad-except\u001b[0m\u001b[0;34m\u001b[0m\u001b[0;34m\u001b[0m\u001b[0m\n\u001b[1;32m     66\u001b[0m       \u001b[0mfiltered_tb\u001b[0m \u001b[0;34m=\u001b[0m \u001b[0m_process_traceback_frames\u001b[0m\u001b[0;34m(\u001b[0m\u001b[0me\u001b[0m\u001b[0;34m.\u001b[0m\u001b[0m__traceback__\u001b[0m\u001b[0;34m)\u001b[0m\u001b[0;34m\u001b[0m\u001b[0;34m\u001b[0m\u001b[0m\n\u001b[0;32m---> 67\u001b[0;31m       \u001b[0;32mraise\u001b[0m \u001b[0me\u001b[0m\u001b[0;34m.\u001b[0m\u001b[0mwith_traceback\u001b[0m\u001b[0;34m(\u001b[0m\u001b[0mfiltered_tb\u001b[0m\u001b[0;34m)\u001b[0m \u001b[0;32mfrom\u001b[0m \u001b[0;32mNone\u001b[0m\u001b[0;34m\u001b[0m\u001b[0;34m\u001b[0m\u001b[0m\n\u001b[0m\u001b[1;32m     68\u001b[0m     \u001b[0;32mfinally\u001b[0m\u001b[0;34m:\u001b[0m\u001b[0;34m\u001b[0m\u001b[0;34m\u001b[0m\u001b[0m\n\u001b[1;32m     69\u001b[0m       \u001b[0;32mdel\u001b[0m \u001b[0mfiltered_tb\u001b[0m\u001b[0;34m\u001b[0m\u001b[0;34m\u001b[0m\u001b[0m\n",
            "\u001b[0;32m/usr/local/lib/python3.7/dist-packages/keras/saving/save.py\u001b[0m in \u001b[0;36mload_model\u001b[0;34m(filepath, custom_objects, compile, options)\u001b[0m\n\u001b[1;32m    202\u001b[0m         \u001b[0;32mif\u001b[0m \u001b[0misinstance\u001b[0m\u001b[0;34m(\u001b[0m\u001b[0mfilepath_str\u001b[0m\u001b[0;34m,\u001b[0m \u001b[0mstr\u001b[0m\u001b[0;34m)\u001b[0m\u001b[0;34m:\u001b[0m\u001b[0;34m\u001b[0m\u001b[0;34m\u001b[0m\u001b[0m\n\u001b[1;32m    203\u001b[0m           \u001b[0;32mif\u001b[0m \u001b[0;32mnot\u001b[0m \u001b[0mtf\u001b[0m\u001b[0;34m.\u001b[0m\u001b[0mio\u001b[0m\u001b[0;34m.\u001b[0m\u001b[0mgfile\u001b[0m\u001b[0;34m.\u001b[0m\u001b[0mexists\u001b[0m\u001b[0;34m(\u001b[0m\u001b[0mfilepath_str\u001b[0m\u001b[0;34m)\u001b[0m\u001b[0;34m:\u001b[0m\u001b[0;34m\u001b[0m\u001b[0;34m\u001b[0m\u001b[0m\n\u001b[0;32m--> 204\u001b[0;31m             \u001b[0;32mraise\u001b[0m \u001b[0mIOError\u001b[0m\u001b[0;34m(\u001b[0m\u001b[0;34mf'No file or directory found at {filepath_str}'\u001b[0m\u001b[0;34m)\u001b[0m\u001b[0;34m\u001b[0m\u001b[0;34m\u001b[0m\u001b[0m\n\u001b[0m\u001b[1;32m    205\u001b[0m \u001b[0;34m\u001b[0m\u001b[0m\n\u001b[1;32m    206\u001b[0m           \u001b[0;32mif\u001b[0m \u001b[0mtf\u001b[0m\u001b[0;34m.\u001b[0m\u001b[0mio\u001b[0m\u001b[0;34m.\u001b[0m\u001b[0mgfile\u001b[0m\u001b[0;34m.\u001b[0m\u001b[0misdir\u001b[0m\u001b[0;34m(\u001b[0m\u001b[0mfilepath_str\u001b[0m\u001b[0;34m)\u001b[0m\u001b[0;34m:\u001b[0m\u001b[0;34m\u001b[0m\u001b[0;34m\u001b[0m\u001b[0m\n",
            "\u001b[0;31mOSError\u001b[0m: No file or directory found at dae_1200_1e-3.h5"
          ]
        }
      ],
      "metadata": {
        "colab": {
          "base_uri": "https://localhost:8080/",
          "height": 328
        },
        "id": "oHmOkYFfO86H",
        "outputId": "cd7145f9-e789-497d-e013-09ba2569e044"
      }
    },
    {
      "cell_type": "code",
      "execution_count": null,
      "source": [
        "std = StandardScaler()\n",
        "mms = MinMaxScaler()\n",
        "\n",
        "\n",
        "def preprocess_single_data(data):\n",
        "  global mms, dae\n",
        "  data = signal.resample(data, 200, axis=0)\n",
        "  data = np.abs(rfft(data, n=NFT, axis=0))\n",
        "  data = data[:1200]\n",
        "  # data = std.fit_transform(data)\n",
        "  data = data[None, ...]\n",
        "  # data = mms.fit_transform(data)\n",
        "  # data = dae.predict(data[None, :])\n",
        "  return data\n",
        "\n",
        "\n",
        "class DenoisedDataset():\n",
        "  def __init__(self, df):\n",
        "    self.df = df\n",
        "\n",
        "  def __len__(self):\n",
        "    return len(self.df)\n",
        "\n",
        "  def __getitem__(self, idx):\n",
        "    fname, label, froot = self.df.iloc[idx].tolist()\n",
        "    fname = fname.replace('test', 'train')\n",
        "    data = load_fix_df(froot, fname, label=False)\n",
        "    data = np.stack([data['ax'].to_numpy(), data['ay'].to_numpy(), data['az'].to_numpy()], axis=1)\n",
        "    data = preprocess_single_data(data)\n",
        "    label = int(label)\n",
        "    return data, label\n",
        "\n",
        "  def __call__(self):\n",
        "    for i in range(self.__len__()):\n",
        "      yield self.__getitem__(i)"
      ],
      "outputs": [],
      "metadata": {
        "id": "w562fgb7ON1O"
      }
    },
    {
      "cell_type": "code",
      "execution_count": null,
      "source": [
        "class DeepConvNet:\n",
        "    def __init__(self,\n",
        "                input_shape=(1,20,400),\n",
        "                num_class=2,\n",
        "                loss='sparse_categorical_crossentropy',\n",
        "                epochs=300,\n",
        "                batch_size=512,\n",
        "                optimizer = Adam(beta_1=0.9, beta_2=0.999, epsilon=1e-08),\n",
        "                lr=0.01,\n",
        "                min_lr=0.01,\n",
        "                factor=0.25,\n",
        "                patience=10,\n",
        "                es_patience=30,\n",
        "                verbose=1,\n",
        "                log_path='logs',\n",
        "                model_name='DeepConvNet',\n",
        "                **kwargs):\n",
        "        self.input_shape = input_shape\n",
        "        self.num_class = num_class\n",
        "        self.loss = loss\n",
        "        self.epochs = epochs\n",
        "        self.batch_size = batch_size\n",
        "        self.optimizer = optimizer\n",
        "        self.optimizer.lr = lr\n",
        "        self.lr = lr\n",
        "        self.min_lr = min_lr\n",
        "        self.factor = factor\n",
        "        self.patience = patience\n",
        "        self.es_patience = es_patience\n",
        "        self.verbose = verbose\n",
        "        self.log_path = log_path\n",
        "        self.model_name = model_name\n",
        "        self.weights_dir = log_path+'/'+model_name+'_out_weights.h5'\n",
        "        self.csv_dir = log_path+'/'+model_name+'_out_log.log'\n",
        "        self.time_log = log_path+'/'+model_name+'_time_log.csv'\n",
        "\n",
        "        # use **kwargs to set the new value of below args.\n",
        "        self.kernLength = 125\n",
        "        self.F1 = 8\n",
        "        self.D = 2\n",
        "        self.F2 = int(self.F1*self.D)\n",
        "        self.norm_rate = 0.25\n",
        "        self.dropout_rate = 0.5\n",
        "        self.f1_average = 'binary' if self.num_class == 2 else 'macro'\n",
        "        self.data_format = 'channels_first'\n",
        "        self.shuffle = False\n",
        "        self.metrics = 'accuracy'\n",
        "        self.monitor = 'val_loss'\n",
        "        self.mode = 'min'\n",
        "        self.save_best_only = True\n",
        "        self.save_weight_only = True\n",
        "        self.seed = 1234\n",
        "        self.class_balancing = False\n",
        "        self.class_weight = None\n",
        "\n",
        "        for k in kwargs.keys():\n",
        "            self.__setattr__(k, kwargs[k])\n",
        "            \n",
        "        if self.data_format == 'channels_first':\n",
        "            self.Chans = self.input_shape[1]\n",
        "            self.Samples = self.input_shape[2]\n",
        "        else:\n",
        "            self.Chans = self.input_shape[0]\n",
        "            self.Samples = self.input_shape[1]\n",
        "\n",
        "        np.random.seed(self.seed)\n",
        "        tf.random.set_seed(self.seed)\n",
        "        K.set_image_data_format(self.data_format)\n",
        "        if not os.path.exists(self.log_path):\n",
        "            os.makedirs(self.log_path)\n",
        "\n",
        "    def build(self):\n",
        "        \"\"\" Keras implementation of the Deep Convolutional Network as described in\n",
        "        Schirrmeister et. al. (2017), Human Brain Mapping.\n",
        "        This implementation assumes the input is a 2-second EEG signal sampled at\n",
        "        128Hz, as opposed to signals sampled at 250Hz as described in the original\n",
        "        paper. We also perform temporal convolutions of length (1, 5) as opposed\n",
        "        to (1, 10) due to this sampling rate difference.\n",
        "        Note that we use the max_norm constraint on all convolutional layers, as\n",
        "        well as the classification layer. We also change the defaults for the\n",
        "        BatchNormalization layer. We used this based on a personal communication\n",
        "        with the original authors.\n",
        "                          ours        original paper\n",
        "        pool_size        1, 2        1, 3\n",
        "        strides          1, 2        1, 3\n",
        "        conv filters     1, 5        1, 10\n",
        "        Note that this implementation has not been verified by the original\n",
        "        authors.\n",
        "        \"\"\"\n",
        "\n",
        "        # start the model\n",
        "        input_main   = Input(self.input_shape)\n",
        "        block1       = Conv2D(25, (1, 5),\n",
        "                              input_shape=(self.input_shape),\n",
        "                              kernel_constraint=max_norm(2., axis=(0, 1, 2)))(input_main)\n",
        "        block1       = Conv2D(25, (self.Chans, 1),\n",
        "                              kernel_constraint=max_norm(2., axis=(0, 1, 2)))(block1)\n",
        "        block1       = BatchNormalization(axis=1, epsilon=1e-05, momentum=0.1)(block1)\n",
        "        block1       = Activation('elu')(block1)\n",
        "        block1       = MaxPooling2D(pool_size=(1, 2), strides=(1, 2))(block1)\n",
        "        block1       = Dropout(self.dropout_rate)(block1)\n",
        "\n",
        "        block2       = Conv2D(50, (1, 5),\n",
        "                              kernel_constraint=max_norm(2., axis=(0, 1, 2)))(block1)\n",
        "        block2       = BatchNormalization(axis=1, epsilon=1e-05, momentum=0.1)(block2)\n",
        "        block2       = Activation('elu')(block2)\n",
        "        block2       = MaxPooling2D(pool_size=(1, 2), strides=(1, 2))(block2)\n",
        "        block2       = Dropout(self.dropout_rate)(block2)\n",
        "\n",
        "        block3       = Conv2D(100, (1, 5),\n",
        "                              kernel_constraint=max_norm(2., axis=(0, 1, 2)))(block2)\n",
        "        block3       = BatchNormalization(axis=1, epsilon=1e-05, momentum=0.1)(block3)\n",
        "        block3       = Activation('elu')(block3)\n",
        "        block3       = MaxPooling2D(pool_size=(1, 2), strides=(1, 2))(block3)\n",
        "        block3       = Dropout(self.dropout_rate)(block3)\n",
        "\n",
        "        block4       = Conv2D(200, (1, 5),\n",
        "                              kernel_constraint=max_norm(2., axis=(0, 1, 2)))(block3)\n",
        "        block4       = BatchNormalization(axis=1, epsilon=1e-05, momentum=0.1)(block4)\n",
        "        block4       = Activation('elu')(block4)\n",
        "        block4       = MaxPooling2D(pool_size=(1, 2), strides=(1, 2))(block4)\n",
        "        block4       = Dropout(self.dropout_rate)(block4)\n",
        "\n",
        "        flatten      = Flatten()(block4)\n",
        "\n",
        "        dense        = Dense(self.num_class, kernel_constraint = max_norm(0.5))(flatten)\n",
        "        softmax      = Activation('softmax')(dense)\n",
        "\n",
        "        return Model(inputs=input_main, outputs=softmax)\n",
        "\n",
        "    def fit(self, data_train, data_val):\n",
        "\n",
        "        # if X_train.ndim != 4:\n",
        "        #     raise Exception('ValueError: `X_train` is incompatible: expected ndim=4, found ndim='+str(X_train.ndim))\n",
        "        # elif X_val.ndim != 4:\n",
        "        #     raise Exception('ValueError: `X_val` is incompatible: expected ndim=4, found ndim='+str(X_val.ndim))\n",
        "\n",
        "        # self.input_shape = X_train.shape[1:]\n",
        "        # if self.data_format == 'channels_first':\n",
        "        #     self.Chans = self.input_shape[1]\n",
        "        #     self.Samples = self.input_shape[2]\n",
        "        # else:\n",
        "        #     self.Chans = self.input_shape[0]\n",
        "        #     self.Samples = self.input_shape[1]\n",
        "        \n",
        "        csv_logger = CSVLogger(self.csv_dir)\n",
        "        time_callback = TimeHistory(self.time_log)\n",
        "        checkpointer = ModelCheckpoint(monitor=self.monitor, filepath=self.weights_dir, verbose=self.verbose, \n",
        "                                       save_best_only=self.save_best_only, save_weight_only=self.save_weight_only)\n",
        "        reduce_lr = ReduceLROnPlateau(monitor=self.monitor, patience=self.patience, factor=self.factor, mode=self.mode, \n",
        "                                      verbose=self.verbose, min_lr=self.min_lr)\n",
        "        es = EarlyStopping(monitor=self.monitor, mode=self.mode, verbose=self.verbose, patience=self.es_patience)\n",
        "\n",
        "        model = self.build()\n",
        "        model.compile(optimizer=self.optimizer, loss=self.loss, metrics=self.metrics)\n",
        "        model.summary()\n",
        "        \n",
        "        # if self.class_balancing: # compute_class_weight if class_balancing is True\n",
        "        #     self.class_weight = compute_class_weight(y_train)\n",
        "        # else:\n",
        "        self.class_weight = None\n",
        "            \n",
        "        model.fit(data_train,\n",
        "                  batch_size=self.batch_size, shuffle=self.shuffle,\n",
        "                  epochs=self.epochs, validation_data=data_val, class_weight=self.class_weight,\n",
        "                  callbacks=[checkpointer,csv_logger,reduce_lr,es, time_callback])\n",
        "\n",
        "    def evaluate(self, data_test):\n",
        "\n",
        "        # if X_test.ndim != 4:\n",
        "        #     raise Exception('ValueError: `X_test` is incompatible: expected ndim=4, found ndim='+str(X_test.ndim))\n",
        "\n",
        "        model = self.build()\n",
        "        model.load_weights(self.weights_dir)\n",
        "        model.compile(optimizer=self.optimizer, loss=self.loss, metrics=self.metrics)\n",
        "\n",
        "        # start = time.time()\n",
        "        # y_pred = model.predict(X_test)\n",
        "        # end = time.time()\n",
        "        loss, accuracy = model.evaluate(data_test, batch_size=self.batch_size, verbose=self.verbose)\n",
        "        # y_pred_argm = np.argmax(y_pred, axis=1)\n",
        "        # print(classification_report(y_test, y_pred_argm))\n",
        "        # print(\"F1-score is computed based on {}\".format(self.f1_average))\n",
        "        # f1 = f1_score(y_test, y_pred_argm, average=self.f1_average)\n",
        "        # evaluation = {'loss': loss, \n",
        "        #               'accuracy': accuracy, \n",
        "        #               'f1-score': f1, \n",
        "        #               'prediction_time': end-start}\n",
        "        # Y = {'y_true': y_test, \n",
        "        #      'y_pred': y_pred_argm}\n",
        "        return loss, accuracy\n",
        "\n",
        "    def predict(self, X_test):\n",
        "        model = self.build()\n",
        "        model.load_weights(self.weights_dir)\n",
        "        model.compile(optimizer=self.optimizer, loss=self.loss, metrics=self.metrics)\n",
        "\n",
        "        # start = time.time()\n",
        "        # y_pred = model.predict(X_test)\n",
        "        # end = time.time()\n",
        "        Y_pred = model.predict(X_test, batch_size=self.batch_size, verbose=self.verbose)\n",
        "        return Y_pred"
      ],
      "outputs": [],
      "metadata": {
        "id": "U_X1dT8GHBKo"
      }
    },
    {
      "cell_type": "code",
      "execution_count": null,
      "source": [
        "EPOCHS = 40\n",
        "BATCH_SIZE = 32\n",
        "\n",
        "model = DeepConvNet(\n",
        "  input_shape=(1, 1200, 3), \n",
        "  num_class=29, \n",
        "  dropout_rate=0.7, \n",
        "  epochs=EPOCHS,\n",
        "  batch_size=BATCH_SIZE,\n",
        "  shuffle=True, \n",
        "  min_lr=1e-5, \n",
        "  data_format='channels_last'\n",
        ")"
      ],
      "outputs": [],
      "metadata": {
        "id": "VnFYrjuzKta8"
      }
    },
    {
      "cell_type": "code",
      "execution_count": null,
      "source": [
        "OS = (\n",
        "  tf.TensorSpec(shape=(1, 1200, 3), dtype=tf.float32),\n",
        "  tf.TensorSpec(shape=(), dtype=tf.int64)\n",
        ")\n",
        "\n",
        "df_train = df_all[df_all['label']!=29]\n",
        "\n",
        "df_train, df_test = train_test_split(df_train, test_size=0.30, shuffle=True)\n",
        "df_valid, df_test = train_test_split(df_test, test_size=0.50, shuffle=False)\n",
        "\n",
        "train_generator = DenoisedDataset(df_train)\n",
        "valid_generator = DenoisedDataset(df_valid)\n",
        "train_dataset = tf.data.Dataset.from_generator(train_generator, output_signature=OS).batch(BATCH_SIZE)\n",
        "valid_dataset = tf.data.Dataset.from_generator(valid_generator, output_signature=OS).batch(BATCH_SIZE)"
      ],
      "outputs": [],
      "metadata": {
        "id": "bihCbEq8NfW7"
      }
    },
    {
      "cell_type": "code",
      "execution_count": null,
      "source": [
        "history = model.fit(train_dataset, valid_dataset)"
      ],
      "outputs": [
        {
          "output_type": "stream",
          "name": "stdout",
          "text": [
            "Model: \"model_2\"\n",
            "_________________________________________________________________\n",
            " Layer (type)                Output Shape              Param #   \n",
            "=================================================================\n",
            " input_3 (InputLayer)        [(None, 1, 1200, 3)]      0         \n",
            "                                                                 \n",
            " conv2d_10 (Conv2D)          (None, 1, 1196, 25)       400       \n",
            "                                                                 \n",
            " conv2d_11 (Conv2D)          (None, 1, 1196, 25)       650       \n",
            "                                                                 \n",
            " batch_normalization_8 (Batc  (None, 1, 1196, 25)      4         \n",
            " hNormalization)                                                 \n",
            "                                                                 \n",
            " activation_10 (Activation)  (None, 1, 1196, 25)       0         \n",
            "                                                                 \n",
            " max_pooling2d_8 (MaxPooling  (None, 1, 598, 25)       0         \n",
            " 2D)                                                             \n",
            "                                                                 \n",
            " dropout_8 (Dropout)         (None, 1, 598, 25)        0         \n",
            "                                                                 \n",
            " conv2d_12 (Conv2D)          (None, 1, 594, 50)        6300      \n",
            "                                                                 \n",
            " batch_normalization_9 (Batc  (None, 1, 594, 50)       4         \n",
            " hNormalization)                                                 \n",
            "                                                                 \n",
            " activation_11 (Activation)  (None, 1, 594, 50)        0         \n",
            "                                                                 \n",
            " max_pooling2d_9 (MaxPooling  (None, 1, 297, 50)       0         \n",
            " 2D)                                                             \n",
            "                                                                 \n",
            " dropout_9 (Dropout)         (None, 1, 297, 50)        0         \n",
            "                                                                 \n",
            " conv2d_13 (Conv2D)          (None, 1, 293, 100)       25100     \n",
            "                                                                 \n",
            " batch_normalization_10 (Bat  (None, 1, 293, 100)      4         \n",
            " chNormalization)                                                \n",
            "                                                                 \n",
            " activation_12 (Activation)  (None, 1, 293, 100)       0         \n",
            "                                                                 \n",
            " max_pooling2d_10 (MaxPoolin  (None, 1, 146, 100)      0         \n",
            " g2D)                                                            \n",
            "                                                                 \n",
            " dropout_10 (Dropout)        (None, 1, 146, 100)       0         \n",
            "                                                                 \n",
            " conv2d_14 (Conv2D)          (None, 1, 142, 200)       100200    \n",
            "                                                                 \n",
            " batch_normalization_11 (Bat  (None, 1, 142, 200)      4         \n",
            " chNormalization)                                                \n",
            "                                                                 \n",
            " activation_13 (Activation)  (None, 1, 142, 200)       0         \n",
            "                                                                 \n",
            " max_pooling2d_11 (MaxPoolin  (None, 1, 71, 200)       0         \n",
            " g2D)                                                            \n",
            "                                                                 \n",
            " dropout_11 (Dropout)        (None, 1, 71, 200)        0         \n",
            "                                                                 \n",
            " flatten_2 (Flatten)         (None, 14200)             0         \n",
            "                                                                 \n",
            " dense_2 (Dense)             (None, 29)                411829    \n",
            "                                                                 \n",
            " activation_14 (Activation)  (None, 29)                0         \n",
            "                                                                 \n",
            "=================================================================\n",
            "Total params: 544,495\n",
            "Trainable params: 544,487\n",
            "Non-trainable params: 8\n",
            "_________________________________________________________________\n",
            "Epoch 1/40\n",
            "   1269/Unknown - 828s 652ms/step - loss: 3.4401 - accuracy: 0.0393\n",
            "Epoch 1: val_loss improved from inf to 3.36383, saving model to logs/DeepConvNet_out_weights.h5\n",
            "1269/1269 [==============================] - 1004s 790ms/step - loss: 3.4401 - accuracy: 0.0393 - val_loss: 3.3638 - val_accuracy: 0.0378 - lr: 0.0100\n",
            "Epoch 2/40\n",
            "  52/1269 [>.............................] - ETA: 13:26 - loss: 3.3669 - accuracy: 0.0337"
          ]
        },
        {
          "output_type": "error",
          "ename": "KeyboardInterrupt",
          "evalue": "ignored",
          "traceback": [
            "\u001b[0;31m---------------------------------------------------------------------------\u001b[0m",
            "\u001b[0;31mKeyboardInterrupt\u001b[0m                         Traceback (most recent call last)",
            "\u001b[0;32m<ipython-input-32-5f9d969aa20f>\u001b[0m in \u001b[0;36m<module>\u001b[0;34m()\u001b[0m\n\u001b[0;32m----> 1\u001b[0;31m \u001b[0mhistory\u001b[0m \u001b[0;34m=\u001b[0m \u001b[0mmodel\u001b[0m\u001b[0;34m.\u001b[0m\u001b[0mfit\u001b[0m\u001b[0;34m(\u001b[0m\u001b[0mtrain_dataset\u001b[0m\u001b[0;34m,\u001b[0m \u001b[0mvalid_dataset\u001b[0m\u001b[0;34m)\u001b[0m\u001b[0;34m\u001b[0m\u001b[0;34m\u001b[0m\u001b[0m\n\u001b[0m",
            "\u001b[0;32m<ipython-input-29-4de332b1b64d>\u001b[0m in \u001b[0;36mfit\u001b[0;34m(self, data_train, data_val)\u001b[0m\n\u001b[1;32m    164\u001b[0m                   \u001b[0mbatch_size\u001b[0m\u001b[0;34m=\u001b[0m\u001b[0mself\u001b[0m\u001b[0;34m.\u001b[0m\u001b[0mbatch_size\u001b[0m\u001b[0;34m,\u001b[0m \u001b[0mshuffle\u001b[0m\u001b[0;34m=\u001b[0m\u001b[0mself\u001b[0m\u001b[0;34m.\u001b[0m\u001b[0mshuffle\u001b[0m\u001b[0;34m,\u001b[0m\u001b[0;34m\u001b[0m\u001b[0;34m\u001b[0m\u001b[0m\n\u001b[1;32m    165\u001b[0m                   \u001b[0mepochs\u001b[0m\u001b[0;34m=\u001b[0m\u001b[0mself\u001b[0m\u001b[0;34m.\u001b[0m\u001b[0mepochs\u001b[0m\u001b[0;34m,\u001b[0m \u001b[0mvalidation_data\u001b[0m\u001b[0;34m=\u001b[0m\u001b[0mdata_val\u001b[0m\u001b[0;34m,\u001b[0m \u001b[0mclass_weight\u001b[0m\u001b[0;34m=\u001b[0m\u001b[0mself\u001b[0m\u001b[0;34m.\u001b[0m\u001b[0mclass_weight\u001b[0m\u001b[0;34m,\u001b[0m\u001b[0;34m\u001b[0m\u001b[0;34m\u001b[0m\u001b[0m\n\u001b[0;32m--> 166\u001b[0;31m                   callbacks=[checkpointer,csv_logger,reduce_lr,es, time_callback])\n\u001b[0m\u001b[1;32m    167\u001b[0m \u001b[0;34m\u001b[0m\u001b[0m\n\u001b[1;32m    168\u001b[0m     \u001b[0;32mdef\u001b[0m \u001b[0mevaluate\u001b[0m\u001b[0;34m(\u001b[0m\u001b[0mself\u001b[0m\u001b[0;34m,\u001b[0m \u001b[0mdata_test\u001b[0m\u001b[0;34m)\u001b[0m\u001b[0;34m:\u001b[0m\u001b[0;34m\u001b[0m\u001b[0;34m\u001b[0m\u001b[0m\n",
            "\u001b[0;32m/usr/local/lib/python3.7/dist-packages/keras/utils/traceback_utils.py\u001b[0m in \u001b[0;36merror_handler\u001b[0;34m(*args, **kwargs)\u001b[0m\n\u001b[1;32m     62\u001b[0m     \u001b[0mfiltered_tb\u001b[0m \u001b[0;34m=\u001b[0m \u001b[0;32mNone\u001b[0m\u001b[0;34m\u001b[0m\u001b[0;34m\u001b[0m\u001b[0m\n\u001b[1;32m     63\u001b[0m     \u001b[0;32mtry\u001b[0m\u001b[0;34m:\u001b[0m\u001b[0;34m\u001b[0m\u001b[0;34m\u001b[0m\u001b[0m\n\u001b[0;32m---> 64\u001b[0;31m       \u001b[0;32mreturn\u001b[0m \u001b[0mfn\u001b[0m\u001b[0;34m(\u001b[0m\u001b[0;34m*\u001b[0m\u001b[0margs\u001b[0m\u001b[0;34m,\u001b[0m \u001b[0;34m**\u001b[0m\u001b[0mkwargs\u001b[0m\u001b[0;34m)\u001b[0m\u001b[0;34m\u001b[0m\u001b[0;34m\u001b[0m\u001b[0m\n\u001b[0m\u001b[1;32m     65\u001b[0m     \u001b[0;32mexcept\u001b[0m \u001b[0mException\u001b[0m \u001b[0;32mas\u001b[0m \u001b[0me\u001b[0m\u001b[0;34m:\u001b[0m  \u001b[0;31m# pylint: disable=broad-except\u001b[0m\u001b[0;34m\u001b[0m\u001b[0;34m\u001b[0m\u001b[0m\n\u001b[1;32m     66\u001b[0m       \u001b[0mfiltered_tb\u001b[0m \u001b[0;34m=\u001b[0m \u001b[0m_process_traceback_frames\u001b[0m\u001b[0;34m(\u001b[0m\u001b[0me\u001b[0m\u001b[0;34m.\u001b[0m\u001b[0m__traceback__\u001b[0m\u001b[0;34m)\u001b[0m\u001b[0;34m\u001b[0m\u001b[0;34m\u001b[0m\u001b[0m\n",
            "\u001b[0;32m/usr/local/lib/python3.7/dist-packages/keras/engine/training.py\u001b[0m in \u001b[0;36mfit\u001b[0;34m(self, x, y, batch_size, epochs, verbose, callbacks, validation_split, validation_data, shuffle, class_weight, sample_weight, initial_epoch, steps_per_epoch, validation_steps, validation_batch_size, validation_freq, max_queue_size, workers, use_multiprocessing)\u001b[0m\n\u001b[1;32m   1382\u001b[0m                 _r=1):\n\u001b[1;32m   1383\u001b[0m               \u001b[0mcallbacks\u001b[0m\u001b[0;34m.\u001b[0m\u001b[0mon_train_batch_begin\u001b[0m\u001b[0;34m(\u001b[0m\u001b[0mstep\u001b[0m\u001b[0;34m)\u001b[0m\u001b[0;34m\u001b[0m\u001b[0;34m\u001b[0m\u001b[0m\n\u001b[0;32m-> 1384\u001b[0;31m               \u001b[0mtmp_logs\u001b[0m \u001b[0;34m=\u001b[0m \u001b[0mself\u001b[0m\u001b[0;34m.\u001b[0m\u001b[0mtrain_function\u001b[0m\u001b[0;34m(\u001b[0m\u001b[0miterator\u001b[0m\u001b[0;34m)\u001b[0m\u001b[0;34m\u001b[0m\u001b[0;34m\u001b[0m\u001b[0m\n\u001b[0m\u001b[1;32m   1385\u001b[0m               \u001b[0;32mif\u001b[0m \u001b[0mdata_handler\u001b[0m\u001b[0;34m.\u001b[0m\u001b[0mshould_sync\u001b[0m\u001b[0;34m:\u001b[0m\u001b[0;34m\u001b[0m\u001b[0;34m\u001b[0m\u001b[0m\n\u001b[1;32m   1386\u001b[0m                 \u001b[0mcontext\u001b[0m\u001b[0;34m.\u001b[0m\u001b[0masync_wait\u001b[0m\u001b[0;34m(\u001b[0m\u001b[0;34m)\u001b[0m\u001b[0;34m\u001b[0m\u001b[0;34m\u001b[0m\u001b[0m\n",
            "\u001b[0;32m/usr/local/lib/python3.7/dist-packages/tensorflow/python/util/traceback_utils.py\u001b[0m in \u001b[0;36merror_handler\u001b[0;34m(*args, **kwargs)\u001b[0m\n\u001b[1;32m    148\u001b[0m     \u001b[0mfiltered_tb\u001b[0m \u001b[0;34m=\u001b[0m \u001b[0;32mNone\u001b[0m\u001b[0;34m\u001b[0m\u001b[0;34m\u001b[0m\u001b[0m\n\u001b[1;32m    149\u001b[0m     \u001b[0;32mtry\u001b[0m\u001b[0;34m:\u001b[0m\u001b[0;34m\u001b[0m\u001b[0;34m\u001b[0m\u001b[0m\n\u001b[0;32m--> 150\u001b[0;31m       \u001b[0;32mreturn\u001b[0m \u001b[0mfn\u001b[0m\u001b[0;34m(\u001b[0m\u001b[0;34m*\u001b[0m\u001b[0margs\u001b[0m\u001b[0;34m,\u001b[0m \u001b[0;34m**\u001b[0m\u001b[0mkwargs\u001b[0m\u001b[0;34m)\u001b[0m\u001b[0;34m\u001b[0m\u001b[0;34m\u001b[0m\u001b[0m\n\u001b[0m\u001b[1;32m    151\u001b[0m     \u001b[0;32mexcept\u001b[0m \u001b[0mException\u001b[0m \u001b[0;32mas\u001b[0m \u001b[0me\u001b[0m\u001b[0;34m:\u001b[0m\u001b[0;34m\u001b[0m\u001b[0;34m\u001b[0m\u001b[0m\n\u001b[1;32m    152\u001b[0m       \u001b[0mfiltered_tb\u001b[0m \u001b[0;34m=\u001b[0m \u001b[0m_process_traceback_frames\u001b[0m\u001b[0;34m(\u001b[0m\u001b[0me\u001b[0m\u001b[0;34m.\u001b[0m\u001b[0m__traceback__\u001b[0m\u001b[0;34m)\u001b[0m\u001b[0;34m\u001b[0m\u001b[0;34m\u001b[0m\u001b[0m\n",
            "\u001b[0;32m/usr/local/lib/python3.7/dist-packages/tensorflow/python/eager/def_function.py\u001b[0m in \u001b[0;36m__call__\u001b[0;34m(self, *args, **kwds)\u001b[0m\n\u001b[1;32m    913\u001b[0m \u001b[0;34m\u001b[0m\u001b[0m\n\u001b[1;32m    914\u001b[0m       \u001b[0;32mwith\u001b[0m \u001b[0mOptionalXlaContext\u001b[0m\u001b[0;34m(\u001b[0m\u001b[0mself\u001b[0m\u001b[0;34m.\u001b[0m\u001b[0m_jit_compile\u001b[0m\u001b[0;34m)\u001b[0m\u001b[0;34m:\u001b[0m\u001b[0;34m\u001b[0m\u001b[0;34m\u001b[0m\u001b[0m\n\u001b[0;32m--> 915\u001b[0;31m         \u001b[0mresult\u001b[0m \u001b[0;34m=\u001b[0m \u001b[0mself\u001b[0m\u001b[0;34m.\u001b[0m\u001b[0m_call\u001b[0m\u001b[0;34m(\u001b[0m\u001b[0;34m*\u001b[0m\u001b[0margs\u001b[0m\u001b[0;34m,\u001b[0m \u001b[0;34m**\u001b[0m\u001b[0mkwds\u001b[0m\u001b[0;34m)\u001b[0m\u001b[0;34m\u001b[0m\u001b[0;34m\u001b[0m\u001b[0m\n\u001b[0m\u001b[1;32m    916\u001b[0m \u001b[0;34m\u001b[0m\u001b[0m\n\u001b[1;32m    917\u001b[0m       \u001b[0mnew_tracing_count\u001b[0m \u001b[0;34m=\u001b[0m \u001b[0mself\u001b[0m\u001b[0;34m.\u001b[0m\u001b[0mexperimental_get_tracing_count\u001b[0m\u001b[0;34m(\u001b[0m\u001b[0;34m)\u001b[0m\u001b[0;34m\u001b[0m\u001b[0;34m\u001b[0m\u001b[0m\n",
            "\u001b[0;32m/usr/local/lib/python3.7/dist-packages/tensorflow/python/eager/def_function.py\u001b[0m in \u001b[0;36m_call\u001b[0;34m(self, *args, **kwds)\u001b[0m\n\u001b[1;32m    945\u001b[0m       \u001b[0;31m# In this case we have created variables on the first call, so we run the\u001b[0m\u001b[0;34m\u001b[0m\u001b[0;34m\u001b[0m\u001b[0;34m\u001b[0m\u001b[0m\n\u001b[1;32m    946\u001b[0m       \u001b[0;31m# defunned version which is guaranteed to never create variables.\u001b[0m\u001b[0;34m\u001b[0m\u001b[0;34m\u001b[0m\u001b[0;34m\u001b[0m\u001b[0m\n\u001b[0;32m--> 947\u001b[0;31m       \u001b[0;32mreturn\u001b[0m \u001b[0mself\u001b[0m\u001b[0;34m.\u001b[0m\u001b[0m_stateless_fn\u001b[0m\u001b[0;34m(\u001b[0m\u001b[0;34m*\u001b[0m\u001b[0margs\u001b[0m\u001b[0;34m,\u001b[0m \u001b[0;34m**\u001b[0m\u001b[0mkwds\u001b[0m\u001b[0;34m)\u001b[0m  \u001b[0;31m# pylint: disable=not-callable\u001b[0m\u001b[0;34m\u001b[0m\u001b[0;34m\u001b[0m\u001b[0m\n\u001b[0m\u001b[1;32m    948\u001b[0m     \u001b[0;32melif\u001b[0m \u001b[0mself\u001b[0m\u001b[0;34m.\u001b[0m\u001b[0m_stateful_fn\u001b[0m \u001b[0;32mis\u001b[0m \u001b[0;32mnot\u001b[0m \u001b[0;32mNone\u001b[0m\u001b[0;34m:\u001b[0m\u001b[0;34m\u001b[0m\u001b[0;34m\u001b[0m\u001b[0m\n\u001b[1;32m    949\u001b[0m       \u001b[0;31m# Release the lock early so that multiple threads can perform the call\u001b[0m\u001b[0;34m\u001b[0m\u001b[0;34m\u001b[0m\u001b[0;34m\u001b[0m\u001b[0m\n",
            "\u001b[0;32m/usr/local/lib/python3.7/dist-packages/tensorflow/python/eager/function.py\u001b[0m in \u001b[0;36m__call__\u001b[0;34m(self, *args, **kwargs)\u001b[0m\n\u001b[1;32m   2955\u001b[0m        filtered_flat_args) = self._maybe_define_function(args, kwargs)\n\u001b[1;32m   2956\u001b[0m     return graph_function._call_flat(\n\u001b[0;32m-> 2957\u001b[0;31m         filtered_flat_args, captured_inputs=graph_function.captured_inputs)  # pylint: disable=protected-access\n\u001b[0m\u001b[1;32m   2958\u001b[0m \u001b[0;34m\u001b[0m\u001b[0m\n\u001b[1;32m   2959\u001b[0m   \u001b[0;34m@\u001b[0m\u001b[0mproperty\u001b[0m\u001b[0;34m\u001b[0m\u001b[0;34m\u001b[0m\u001b[0m\n",
            "\u001b[0;32m/usr/local/lib/python3.7/dist-packages/tensorflow/python/eager/function.py\u001b[0m in \u001b[0;36m_call_flat\u001b[0;34m(self, args, captured_inputs, cancellation_manager)\u001b[0m\n\u001b[1;32m   1852\u001b[0m       \u001b[0;31m# No tape is watching; skip to running the function.\u001b[0m\u001b[0;34m\u001b[0m\u001b[0;34m\u001b[0m\u001b[0;34m\u001b[0m\u001b[0m\n\u001b[1;32m   1853\u001b[0m       return self._build_call_outputs(self._inference_function.call(\n\u001b[0;32m-> 1854\u001b[0;31m           ctx, args, cancellation_manager=cancellation_manager))\n\u001b[0m\u001b[1;32m   1855\u001b[0m     forward_backward = self._select_forward_and_backward_functions(\n\u001b[1;32m   1856\u001b[0m         \u001b[0margs\u001b[0m\u001b[0;34m,\u001b[0m\u001b[0;34m\u001b[0m\u001b[0;34m\u001b[0m\u001b[0m\n",
            "\u001b[0;32m/usr/local/lib/python3.7/dist-packages/tensorflow/python/eager/function.py\u001b[0m in \u001b[0;36mcall\u001b[0;34m(self, ctx, args, cancellation_manager)\u001b[0m\n\u001b[1;32m    502\u001b[0m               \u001b[0minputs\u001b[0m\u001b[0;34m=\u001b[0m\u001b[0margs\u001b[0m\u001b[0;34m,\u001b[0m\u001b[0;34m\u001b[0m\u001b[0;34m\u001b[0m\u001b[0m\n\u001b[1;32m    503\u001b[0m               \u001b[0mattrs\u001b[0m\u001b[0;34m=\u001b[0m\u001b[0mattrs\u001b[0m\u001b[0;34m,\u001b[0m\u001b[0;34m\u001b[0m\u001b[0;34m\u001b[0m\u001b[0m\n\u001b[0;32m--> 504\u001b[0;31m               ctx=ctx)\n\u001b[0m\u001b[1;32m    505\u001b[0m         \u001b[0;32melse\u001b[0m\u001b[0;34m:\u001b[0m\u001b[0;34m\u001b[0m\u001b[0;34m\u001b[0m\u001b[0m\n\u001b[1;32m    506\u001b[0m           outputs = execute.execute_with_cancellation(\n",
            "\u001b[0;32m/usr/local/lib/python3.7/dist-packages/tensorflow/python/eager/execute.py\u001b[0m in \u001b[0;36mquick_execute\u001b[0;34m(op_name, num_outputs, inputs, attrs, ctx, name)\u001b[0m\n\u001b[1;32m     53\u001b[0m     \u001b[0mctx\u001b[0m\u001b[0;34m.\u001b[0m\u001b[0mensure_initialized\u001b[0m\u001b[0;34m(\u001b[0m\u001b[0;34m)\u001b[0m\u001b[0;34m\u001b[0m\u001b[0;34m\u001b[0m\u001b[0m\n\u001b[1;32m     54\u001b[0m     tensors = pywrap_tfe.TFE_Py_Execute(ctx._handle, device_name, op_name,\n\u001b[0;32m---> 55\u001b[0;31m                                         inputs, attrs, num_outputs)\n\u001b[0m\u001b[1;32m     56\u001b[0m   \u001b[0;32mexcept\u001b[0m \u001b[0mcore\u001b[0m\u001b[0;34m.\u001b[0m\u001b[0m_NotOkStatusException\u001b[0m \u001b[0;32mas\u001b[0m \u001b[0me\u001b[0m\u001b[0;34m:\u001b[0m\u001b[0;34m\u001b[0m\u001b[0;34m\u001b[0m\u001b[0m\n\u001b[1;32m     57\u001b[0m     \u001b[0;32mif\u001b[0m \u001b[0mname\u001b[0m \u001b[0;32mis\u001b[0m \u001b[0;32mnot\u001b[0m \u001b[0;32mNone\u001b[0m\u001b[0;34m:\u001b[0m\u001b[0;34m\u001b[0m\u001b[0;34m\u001b[0m\u001b[0m\n",
            "\u001b[0;31mKeyboardInterrupt\u001b[0m: "
          ]
        }
      ],
      "metadata": {
        "colab": {
          "base_uri": "https://localhost:8080/",
          "height": 1000
        },
        "id": "M3WkNswFP4tt",
        "outputId": "b2a99499-684f-4f0f-d766-e7b536f6fe54"
      }
    },
    {
      "cell_type": "code",
      "execution_count": null,
      "source": [
        "test_generator = DenoisedDataset(df_test)\n",
        "test_dataset = tf.data.Dataset.from_generator(test_generator, output_signature=OS).batch(BATCH_SIZE)\n",
        "test_dataset = tf.data.Dataset.from_generator(test_generator, output_signature=OS).batch(BATCH_SIZE)\n",
        "loss, accuracy = model.evaluate(test_dataset)\n",
        "print(loss, accuracy)"
      ],
      "outputs": [],
      "metadata": {
        "id": "0iR4mKMZQf6t"
      }
    },
    {
      "cell_type": "code",
      "execution_count": null,
      "source": [
        "case = 23  # Fault Code\n",
        "axis = 0  # ax, ay, az\n",
        "\n",
        "demo_noisy, demo_clean = preview_case(case)\n",
        "\n",
        "_noisy = preprocess_single_data(demo_noisy.T)\n",
        "_clean = preprocess_single_data(demo_clean.T)\n",
        "_clean_pred = dae.predict(_noisy[None, :])\n",
        "pred_scores = model.predict(_clean_pred).squeeze()\n",
        "prediction = pred_scores.argmax()\n",
        "\n",
        "print(prediction)\n",
        "plt.hist(pred_scores, bin=29, range=(0, 29))\n",
        "plt.show()"
      ],
      "outputs": [],
      "metadata": {
        "id": "qW_01GiHQzDK"
      }
    },
    {
      "cell_type": "markdown",
      "source": [
        "# Test Prediction and Submission"
      ],
      "metadata": {
        "id": "95K-KTcQbXmV"
      }
    },
    {
      "cell_type": "code",
      "execution_count": null,
      "source": [
        "dae = load_model()\n",
        "print(dae.summary())"
      ],
      "outputs": [],
      "metadata": {
        "id": "_lwM4rgfyJXx"
      }
    },
    {
      "cell_type": "code",
      "execution_count": null,
      "source": [
        "model = load_model('logs/DeepConvNet_out_weights.h5')\n",
        "print(model.summary())"
      ],
      "outputs": [],
      "metadata": {
        "id": "FnDmuKsORtT2"
      }
    },
    {
      "cell_type": "code",
      "execution_count": null,
      "source": [
        "mms = MinMaxScaler()\n",
        "std = StandardScaler()\n",
        "\n",
        "filenames = [f'test_data{i}.csv' for i in range(1, 9001)]\n",
        "predictions = []\n",
        "\n",
        "for fname in tqdm(filenames):\n",
        "  data = load_fix_df(f'test_data/{fname}', label=False)\n",
        "  data = np.stack([data['ax'].to_numpy(), data['ay'].to_numpy(), data['az'].to_numpy()], axis=0)\n",
        "  data = signal.resample(data, 200, axis=0)\n",
        "  data = np.abs(rfft(data, n=NFT, axis=0))\n",
        "  data = data[:1200]\n",
        "  data = mms.fit_transform(data)\n",
        "  data = dae.predict(data[None, :])\n",
        "  pred_scores = model.predict(data).squeeze()\n",
        "  prediction = data.argmax()\n",
        "  '''\n",
        "  In case rule-based scores are made for class 29.\n",
        "  '''\n",
        "  predictions.append(prediction)\n",
        "\n",
        "\n",
        "print(len(predictions))\n",
        "print(predictions[:5])"
      ],
      "outputs": [
        {
          "output_type": "display_data",
          "data": {
            "application/vnd.jupyter.widget-view+json": {
              "model_id": "8bd7709255d14c6cb56b8cf0b1fa08e0",
              "version_major": 2,
              "version_minor": 0
            },
            "text/plain": [
              "  0%|          | 0/9000 [00:00<?, ?it/s]"
            ]
          },
          "metadata": {}
        },
        {
          "output_type": "stream",
          "name": "stdout",
          "text": [
            "9000\n",
            "[array([[3.94521106e-16, 2.92880477e-11, 1.25845029e-11, 1.04931439e-12,\n",
            "        2.69413022e-07, 5.33021516e-10, 2.74587399e-03, 3.13540477e-05,\n",
            "        1.11733627e-07, 4.81699316e-13, 2.37897392e-02, 4.21104801e-07,\n",
            "        1.44576840e-03, 8.61436206e-07, 3.49451067e-12, 5.20784587e-13,\n",
            "        7.35296112e-12, 3.27622484e-17, 1.84111767e-10, 4.03946530e-07,\n",
            "        1.04685316e-09, 2.57107982e-04, 1.04403566e-03, 7.50068071e-14,\n",
            "        4.19905355e-09, 9.80850928e-06, 9.90652293e-02, 8.71495128e-01,\n",
            "        1.13892565e-04]], dtype=float32), array([[3.3484854e-16, 1.9323797e-10, 5.4722459e-11, 7.0869868e-12,\n",
            "        2.1808482e-07, 5.3798698e-11, 7.2226953e-04, 5.4569406e-05,\n",
            "        2.7164995e-07, 1.7068597e-12, 4.8504710e-02, 2.7384010e-07,\n",
            "        2.4305934e-03, 4.8156576e-06, 4.2667645e-12, 1.1426838e-12,\n",
            "        1.3149331e-11, 1.7653819e-17, 2.2600168e-10, 1.3001452e-06,\n",
            "        1.3250984e-09, 8.5378219e-05, 7.7227416e-04, 7.4914975e-14,\n",
            "        5.2765738e-09, 1.9957395e-05, 9.1744639e-02, 8.5514396e-01,\n",
            "        5.1482389e-04]], dtype=float32), array([[4.01603017e-16, 2.14931198e-11, 1.42598077e-11, 1.19917748e-12,\n",
            "        2.79504690e-07, 7.55756291e-10, 2.10740534e-03, 2.36134802e-05,\n",
            "        1.11654025e-07, 4.46633941e-13, 2.59367973e-02, 5.53742893e-07,\n",
            "        1.06423546e-03, 6.21793561e-07, 3.95388887e-12, 5.64663876e-13,\n",
            "        5.71918814e-12, 2.20708381e-17, 1.50126092e-10, 5.11311100e-07,\n",
            "        1.65905334e-09, 2.69554759e-04, 1.01383228e-03, 4.34043094e-14,\n",
            "        2.47672549e-09, 1.99117003e-05, 1.13713756e-01, 8.55728328e-01,\n",
            "        1.20523604e-04]], dtype=float32), array([[1.1802748e-16, 2.8485594e-11, 8.2943825e-12, 7.3179066e-13,\n",
            "        1.3780266e-07, 3.9503267e-10, 2.0962902e-03, 2.0934691e-05,\n",
            "        9.2990184e-08, 3.6422962e-13, 2.7595095e-02, 3.4288797e-07,\n",
            "        1.1902297e-03, 7.0193988e-07, 4.5288773e-12, 3.2303687e-13,\n",
            "        4.9440812e-12, 3.0989627e-17, 1.4121396e-10, 5.5751514e-07,\n",
            "        7.1358658e-10, 1.6718126e-04, 8.8298402e-04, 4.5852038e-14,\n",
            "        2.1339386e-09, 1.0878759e-05, 8.1802435e-02, 8.8613951e-01,\n",
            "        9.2570219e-05]], dtype=float32), array([[3.8648014e-16, 2.5522048e-11, 1.0397951e-11, 9.2936216e-13,\n",
            "        2.1562077e-07, 3.2367073e-10, 2.3112821e-03, 4.3166765e-05,\n",
            "        1.3629946e-07, 5.3068834e-13, 3.7240285e-02, 4.7651150e-07,\n",
            "        1.6254195e-03, 6.2853945e-07, 3.7755975e-12, 4.0243782e-13,\n",
            "        1.1749522e-11, 1.8542165e-17, 1.8667033e-10, 4.7561161e-07,\n",
            "        1.1074527e-09, 2.9205295e-04, 1.1487916e-03, 5.4976284e-14,\n",
            "        2.0256739e-09, 1.3449242e-05, 1.3777654e-01, 8.1939340e-01,\n",
            "        1.5356448e-04]], dtype=float32)]\n"
          ]
        }
      ],
      "metadata": {
        "colab": {
          "base_uri": "https://localhost:8080/",
          "height": 711,
          "referenced_widgets": [
            "8bd7709255d14c6cb56b8cf0b1fa08e0",
            "372ec9d5aaae4fd6b8cb73e9b1b5c55e",
            "d9bc98c71835410589ae941f90ad5b76",
            "718a6a98d0824016b562746aab5dbdcd",
            "f743089548834641b553b614162656e1",
            "15a1e868251543f19160da1af6536f62",
            "f7e666eeea4948a88ad44fc3cbab9bf2",
            "60f395678c7043dda82468e89a6be425",
            "3185262c1e244234ae8c7a1dd07e98ef",
            "2f6f39d23c6a40919065a3080554fe53",
            "e2dbb81723b146f79cb646c1e0f7f19d"
          ]
        },
        "id": "H5SX12iFfIh-",
        "outputId": "3f5379e7-91ef-4ac0-81c0-304ba9146ed6"
      }
    },
    {
      "cell_type": "code",
      "execution_count": null,
      "source": [
        "predictions = [i.argmax() for i in predictions]"
      ],
      "outputs": [],
      "metadata": {
        "id": "fKXxtw0y4HuW"
      }
    },
    {
      "cell_type": "code",
      "execution_count": null,
      "source": [
        "print(predictions[:5])"
      ],
      "outputs": [
        {
          "output_type": "stream",
          "name": "stdout",
          "text": [
            "[27, 27, 27, 27, 27]\n"
          ]
        }
      ],
      "metadata": {
        "colab": {
          "base_uri": "https://localhost:8080/"
        },
        "id": "tUuhF7Uq4UYm",
        "outputId": "dfe8c64e-eda9-468d-a845-786675875427"
      }
    },
    {
      "cell_type": "code",
      "execution_count": null,
      "source": [
        "plt.hist(predictions, bins=30, range=(0, 30))\n",
        "plt.show()"
      ],
      "outputs": [],
      "metadata": {
        "colab": {
          "base_uri": "https://localhost:8080/",
          "height": 266
        },
        "id": "RwhGzALB9DhJ",
        "outputId": "7df6d347-12a2-4aa8-e966-1e4aa67723e0"
      }
    },
    {
      "cell_type": "code",
      "execution_count": null,
      "source": [
        "df_submission = pd.DataFrame({\"filename\": filenames, \"code\": predictions}).astype(str)\n",
        "df_submission.info()"
      ],
      "outputs": [
        {
          "output_type": "stream",
          "name": "stdout",
          "text": [
            "<class 'pandas.core.frame.DataFrame'>\n",
            "RangeIndex: 9000 entries, 0 to 8999\n",
            "Data columns (total 2 columns):\n",
            " #   Column    Non-Null Count  Dtype \n",
            "---  ------    --------------  ----- \n",
            " 0   filename  9000 non-null   object\n",
            " 1   code      9000 non-null   object\n",
            "dtypes: object(2)\n",
            "memory usage: 140.8+ KB\n"
          ]
        }
      ],
      "metadata": {
        "colab": {
          "base_uri": "https://localhost:8080/"
        },
        "id": "oX96lYGJ46PL",
        "outputId": "3ecb989b-cf56-4f3e-f136-dfae670e208e"
      }
    },
    {
      "cell_type": "code",
      "execution_count": null,
      "source": [
        "df_submission.head()"
      ],
      "outputs": [
        {
          "output_type": "execute_result",
          "data": {
            "text/html": [
              "\n",
              "  <div id=\"df-bd0a57f9-d045-4bb6-9ea7-215e68046680\">\n",
              "    <div class=\"colab-df-container\">\n",
              "      <div>\n",
              "<style scoped>\n",
              "    .dataframe tbody tr th:only-of-type {\n",
              "        vertical-align: middle;\n",
              "    }\n",
              "\n",
              "    .dataframe tbody tr th {\n",
              "        vertical-align: top;\n",
              "    }\n",
              "\n",
              "    .dataframe thead th {\n",
              "        text-align: right;\n",
              "    }\n",
              "</style>\n",
              "<table border=\"1\" class=\"dataframe\">\n",
              "  <thead>\n",
              "    <tr style=\"text-align: right;\">\n",
              "      <th></th>\n",
              "      <th>filename</th>\n",
              "      <th>code</th>\n",
              "    </tr>\n",
              "  </thead>\n",
              "  <tbody>\n",
              "    <tr>\n",
              "      <th>0</th>\n",
              "      <td>test_data1.csv</td>\n",
              "      <td>19</td>\n",
              "    </tr>\n",
              "    <tr>\n",
              "      <th>1</th>\n",
              "      <td>test_data2.csv</td>\n",
              "      <td>14</td>\n",
              "    </tr>\n",
              "    <tr>\n",
              "      <th>2</th>\n",
              "      <td>test_data3.csv</td>\n",
              "      <td>19</td>\n",
              "    </tr>\n",
              "    <tr>\n",
              "      <th>3</th>\n",
              "      <td>test_data4.csv</td>\n",
              "      <td>9</td>\n",
              "    </tr>\n",
              "    <tr>\n",
              "      <th>4</th>\n",
              "      <td>test_data5.csv</td>\n",
              "      <td>17</td>\n",
              "    </tr>\n",
              "  </tbody>\n",
              "</table>\n",
              "</div>\n",
              "      <button class=\"colab-df-convert\" onclick=\"convertToInteractive('df-bd0a57f9-d045-4bb6-9ea7-215e68046680')\"\n",
              "              title=\"Convert this dataframe to an interactive table.\"\n",
              "              style=\"display:none;\">\n",
              "        \n",
              "  <svg xmlns=\"http://www.w3.org/2000/svg\" height=\"24px\"viewBox=\"0 0 24 24\"\n",
              "       width=\"24px\">\n",
              "    <path d=\"M0 0h24v24H0V0z\" fill=\"none\"/>\n",
              "    <path d=\"M18.56 5.44l.94 2.06.94-2.06 2.06-.94-2.06-.94-.94-2.06-.94 2.06-2.06.94zm-11 1L8.5 8.5l.94-2.06 2.06-.94-2.06-.94L8.5 2.5l-.94 2.06-2.06.94zm10 10l.94 2.06.94-2.06 2.06-.94-2.06-.94-.94-2.06-.94 2.06-2.06.94z\"/><path d=\"M17.41 7.96l-1.37-1.37c-.4-.4-.92-.59-1.43-.59-.52 0-1.04.2-1.43.59L10.3 9.45l-7.72 7.72c-.78.78-.78 2.05 0 2.83L4 21.41c.39.39.9.59 1.41.59.51 0 1.02-.2 1.41-.59l7.78-7.78 2.81-2.81c.8-.78.8-2.07 0-2.86zM5.41 20L4 18.59l7.72-7.72 1.47 1.35L5.41 20z\"/>\n",
              "  </svg>\n",
              "      </button>\n",
              "      \n",
              "  <style>\n",
              "    .colab-df-container {\n",
              "      display:flex;\n",
              "      flex-wrap:wrap;\n",
              "      gap: 12px;\n",
              "    }\n",
              "\n",
              "    .colab-df-convert {\n",
              "      background-color: #E8F0FE;\n",
              "      border: none;\n",
              "      border-radius: 50%;\n",
              "      cursor: pointer;\n",
              "      display: none;\n",
              "      fill: #1967D2;\n",
              "      height: 32px;\n",
              "      padding: 0 0 0 0;\n",
              "      width: 32px;\n",
              "    }\n",
              "\n",
              "    .colab-df-convert:hover {\n",
              "      background-color: #E2EBFA;\n",
              "      box-shadow: 0px 1px 2px rgba(60, 64, 67, 0.3), 0px 1px 3px 1px rgba(60, 64, 67, 0.15);\n",
              "      fill: #174EA6;\n",
              "    }\n",
              "\n",
              "    [theme=dark] .colab-df-convert {\n",
              "      background-color: #3B4455;\n",
              "      fill: #D2E3FC;\n",
              "    }\n",
              "\n",
              "    [theme=dark] .colab-df-convert:hover {\n",
              "      background-color: #434B5C;\n",
              "      box-shadow: 0px 1px 3px 1px rgba(0, 0, 0, 0.15);\n",
              "      filter: drop-shadow(0px 1px 2px rgba(0, 0, 0, 0.3));\n",
              "      fill: #FFFFFF;\n",
              "    }\n",
              "  </style>\n",
              "\n",
              "      <script>\n",
              "        const buttonEl =\n",
              "          document.querySelector('#df-bd0a57f9-d045-4bb6-9ea7-215e68046680 button.colab-df-convert');\n",
              "        buttonEl.style.display =\n",
              "          google.colab.kernel.accessAllowed ? 'block' : 'none';\n",
              "\n",
              "        async function convertToInteractive(key) {\n",
              "          const element = document.querySelector('#df-bd0a57f9-d045-4bb6-9ea7-215e68046680');\n",
              "          const dataTable =\n",
              "            await google.colab.kernel.invokeFunction('convertToInteractive',\n",
              "                                                     [key], {});\n",
              "          if (!dataTable) return;\n",
              "\n",
              "          const docLinkHtml = 'Like what you see? Visit the ' +\n",
              "            '<a target=\"_blank\" href=https://colab.research.google.com/notebooks/data_table.ipynb>data table notebook</a>'\n",
              "            + ' to learn more about interactive tables.';\n",
              "          element.innerHTML = '';\n",
              "          dataTable['output_type'] = 'display_data';\n",
              "          await google.colab.output.renderOutput(dataTable, element);\n",
              "          const docLink = document.createElement('div');\n",
              "          docLink.innerHTML = docLinkHtml;\n",
              "          element.appendChild(docLink);\n",
              "        }\n",
              "      </script>\n",
              "    </div>\n",
              "  </div>\n",
              "  "
            ],
            "text/plain": [
              "         filename code\n",
              "0  test_data1.csv   19\n",
              "1  test_data2.csv   14\n",
              "2  test_data3.csv   19\n",
              "3  test_data4.csv    9\n",
              "4  test_data5.csv   17"
            ]
          },
          "metadata": {},
          "execution_count": 34
        }
      ],
      "metadata": {
        "colab": {
          "base_uri": "https://localhost:8080/",
          "height": 206
        },
        "id": "hmsOeS7R8s9R",
        "outputId": "adbec849-5e86-439a-9dc7-cf9713ac5952"
      }
    },
    {
      "cell_type": "code",
      "execution_count": null,
      "source": [
        "df_submission.tail()"
      ],
      "outputs": [
        {
          "output_type": "execute_result",
          "data": {
            "text/html": [
              "\n",
              "  <div id=\"df-ce46a03e-cc7f-46cc-b76a-b58b208bf0ee\">\n",
              "    <div class=\"colab-df-container\">\n",
              "      <div>\n",
              "<style scoped>\n",
              "    .dataframe tbody tr th:only-of-type {\n",
              "        vertical-align: middle;\n",
              "    }\n",
              "\n",
              "    .dataframe tbody tr th {\n",
              "        vertical-align: top;\n",
              "    }\n",
              "\n",
              "    .dataframe thead th {\n",
              "        text-align: right;\n",
              "    }\n",
              "</style>\n",
              "<table border=\"1\" class=\"dataframe\">\n",
              "  <thead>\n",
              "    <tr style=\"text-align: right;\">\n",
              "      <th></th>\n",
              "      <th>filename</th>\n",
              "      <th>code</th>\n",
              "    </tr>\n",
              "  </thead>\n",
              "  <tbody>\n",
              "    <tr>\n",
              "      <th>8995</th>\n",
              "      <td>test_data8996.csv</td>\n",
              "      <td>28</td>\n",
              "    </tr>\n",
              "    <tr>\n",
              "      <th>8996</th>\n",
              "      <td>test_data8997.csv</td>\n",
              "      <td>21</td>\n",
              "    </tr>\n",
              "    <tr>\n",
              "      <th>8997</th>\n",
              "      <td>test_data8998.csv</td>\n",
              "      <td>23</td>\n",
              "    </tr>\n",
              "    <tr>\n",
              "      <th>8998</th>\n",
              "      <td>test_data8999.csv</td>\n",
              "      <td>23</td>\n",
              "    </tr>\n",
              "    <tr>\n",
              "      <th>8999</th>\n",
              "      <td>test_data9000.csv</td>\n",
              "      <td>19</td>\n",
              "    </tr>\n",
              "  </tbody>\n",
              "</table>\n",
              "</div>\n",
              "      <button class=\"colab-df-convert\" onclick=\"convertToInteractive('df-ce46a03e-cc7f-46cc-b76a-b58b208bf0ee')\"\n",
              "              title=\"Convert this dataframe to an interactive table.\"\n",
              "              style=\"display:none;\">\n",
              "        \n",
              "  <svg xmlns=\"http://www.w3.org/2000/svg\" height=\"24px\"viewBox=\"0 0 24 24\"\n",
              "       width=\"24px\">\n",
              "    <path d=\"M0 0h24v24H0V0z\" fill=\"none\"/>\n",
              "    <path d=\"M18.56 5.44l.94 2.06.94-2.06 2.06-.94-2.06-.94-.94-2.06-.94 2.06-2.06.94zm-11 1L8.5 8.5l.94-2.06 2.06-.94-2.06-.94L8.5 2.5l-.94 2.06-2.06.94zm10 10l.94 2.06.94-2.06 2.06-.94-2.06-.94-.94-2.06-.94 2.06-2.06.94z\"/><path d=\"M17.41 7.96l-1.37-1.37c-.4-.4-.92-.59-1.43-.59-.52 0-1.04.2-1.43.59L10.3 9.45l-7.72 7.72c-.78.78-.78 2.05 0 2.83L4 21.41c.39.39.9.59 1.41.59.51 0 1.02-.2 1.41-.59l7.78-7.78 2.81-2.81c.8-.78.8-2.07 0-2.86zM5.41 20L4 18.59l7.72-7.72 1.47 1.35L5.41 20z\"/>\n",
              "  </svg>\n",
              "      </button>\n",
              "      \n",
              "  <style>\n",
              "    .colab-df-container {\n",
              "      display:flex;\n",
              "      flex-wrap:wrap;\n",
              "      gap: 12px;\n",
              "    }\n",
              "\n",
              "    .colab-df-convert {\n",
              "      background-color: #E8F0FE;\n",
              "      border: none;\n",
              "      border-radius: 50%;\n",
              "      cursor: pointer;\n",
              "      display: none;\n",
              "      fill: #1967D2;\n",
              "      height: 32px;\n",
              "      padding: 0 0 0 0;\n",
              "      width: 32px;\n",
              "    }\n",
              "\n",
              "    .colab-df-convert:hover {\n",
              "      background-color: #E2EBFA;\n",
              "      box-shadow: 0px 1px 2px rgba(60, 64, 67, 0.3), 0px 1px 3px 1px rgba(60, 64, 67, 0.15);\n",
              "      fill: #174EA6;\n",
              "    }\n",
              "\n",
              "    [theme=dark] .colab-df-convert {\n",
              "      background-color: #3B4455;\n",
              "      fill: #D2E3FC;\n",
              "    }\n",
              "\n",
              "    [theme=dark] .colab-df-convert:hover {\n",
              "      background-color: #434B5C;\n",
              "      box-shadow: 0px 1px 3px 1px rgba(0, 0, 0, 0.15);\n",
              "      filter: drop-shadow(0px 1px 2px rgba(0, 0, 0, 0.3));\n",
              "      fill: #FFFFFF;\n",
              "    }\n",
              "  </style>\n",
              "\n",
              "      <script>\n",
              "        const buttonEl =\n",
              "          document.querySelector('#df-ce46a03e-cc7f-46cc-b76a-b58b208bf0ee button.colab-df-convert');\n",
              "        buttonEl.style.display =\n",
              "          google.colab.kernel.accessAllowed ? 'block' : 'none';\n",
              "\n",
              "        async function convertToInteractive(key) {\n",
              "          const element = document.querySelector('#df-ce46a03e-cc7f-46cc-b76a-b58b208bf0ee');\n",
              "          const dataTable =\n",
              "            await google.colab.kernel.invokeFunction('convertToInteractive',\n",
              "                                                     [key], {});\n",
              "          if (!dataTable) return;\n",
              "\n",
              "          const docLinkHtml = 'Like what you see? Visit the ' +\n",
              "            '<a target=\"_blank\" href=https://colab.research.google.com/notebooks/data_table.ipynb>data table notebook</a>'\n",
              "            + ' to learn more about interactive tables.';\n",
              "          element.innerHTML = '';\n",
              "          dataTable['output_type'] = 'display_data';\n",
              "          await google.colab.output.renderOutput(dataTable, element);\n",
              "          const docLink = document.createElement('div');\n",
              "          docLink.innerHTML = docLinkHtml;\n",
              "          element.appendChild(docLink);\n",
              "        }\n",
              "      </script>\n",
              "    </div>\n",
              "  </div>\n",
              "  "
            ],
            "text/plain": [
              "               filename code\n",
              "8995  test_data8996.csv   28\n",
              "8996  test_data8997.csv   21\n",
              "8997  test_data8998.csv   23\n",
              "8998  test_data8999.csv   23\n",
              "8999  test_data9000.csv   19"
            ]
          },
          "metadata": {},
          "execution_count": 35
        }
      ],
      "metadata": {
        "colab": {
          "base_uri": "https://localhost:8080/",
          "height": 206
        },
        "id": "9Yd3v8W18unc",
        "outputId": "2ba8b1de-968c-4cf7-9546-85946fd5355f"
      }
    },
    {
      "cell_type": "code",
      "execution_count": null,
      "source": [
        "df_submission.to_csv('dummy_submission.csv', index=False)"
      ],
      "outputs": [],
      "metadata": {
        "id": "BiQ88x-P8wLl"
      }
    }
  ],
  "metadata": {
    "accelerator": "GPU",
    "colab": {
      "collapsed_sections": [],
      "name": "Attempt on DAE",
      "provenance": []
    },
    "kernelspec": {
      "display_name": "Python 3",
      "name": "python3"
    },
    "language_info": {
      "name": "python"
    },
    "widgets": {
      "application/vnd.jupyter.widget-state+json": {
        "07af13ea8dba402c9ad15bd9bffa06df": {
          "model_module": "@jupyter-widgets/controls",
          "model_module_version": "1.5.0",
          "model_name": "DescriptionStyleModel",
          "state": {
            "_model_module": "@jupyter-widgets/controls",
            "_model_module_version": "1.5.0",
            "_model_name": "DescriptionStyleModel",
            "_view_count": null,
            "_view_module": "@jupyter-widgets/base",
            "_view_module_version": "1.2.0",
            "_view_name": "StyleView",
            "description_width": ""
          }
        },
        "0c02736b73ef4595b76e6017570c9d1b": {
          "model_module": "@jupyter-widgets/controls",
          "model_module_version": "1.5.0",
          "model_name": "ProgressStyleModel",
          "state": {
            "_model_module": "@jupyter-widgets/controls",
            "_model_module_version": "1.5.0",
            "_model_name": "ProgressStyleModel",
            "_view_count": null,
            "_view_module": "@jupyter-widgets/base",
            "_view_module_version": "1.2.0",
            "_view_name": "StyleView",
            "bar_color": null,
            "description_width": ""
          }
        },
        "18cb95e4b60a42878c8a6dc8872d17fe": {
          "model_module": "@jupyter-widgets/base",
          "model_module_version": "1.2.0",
          "model_name": "LayoutModel",
          "state": {
            "_model_module": "@jupyter-widgets/base",
            "_model_module_version": "1.2.0",
            "_model_name": "LayoutModel",
            "_view_count": null,
            "_view_module": "@jupyter-widgets/base",
            "_view_module_version": "1.2.0",
            "_view_name": "LayoutView",
            "align_content": null,
            "align_items": null,
            "align_self": null,
            "border": null,
            "bottom": null,
            "display": null,
            "flex": null,
            "flex_flow": null,
            "grid_area": null,
            "grid_auto_columns": null,
            "grid_auto_flow": null,
            "grid_auto_rows": null,
            "grid_column": null,
            "grid_gap": null,
            "grid_row": null,
            "grid_template_areas": null,
            "grid_template_columns": null,
            "grid_template_rows": null,
            "height": null,
            "justify_content": null,
            "justify_items": null,
            "left": null,
            "margin": null,
            "max_height": null,
            "max_width": null,
            "min_height": null,
            "min_width": null,
            "object_fit": null,
            "object_position": null,
            "order": null,
            "overflow": null,
            "overflow_x": null,
            "overflow_y": null,
            "padding": null,
            "right": null,
            "top": null,
            "visibility": null,
            "width": null
          }
        },
        "1ca7ded2c6ef4e27aabb3c7f5b3743f4": {
          "model_module": "@jupyter-widgets/controls",
          "model_module_version": "1.5.0",
          "model_name": "DescriptionStyleModel",
          "state": {
            "_model_module": "@jupyter-widgets/controls",
            "_model_module_version": "1.5.0",
            "_model_name": "DescriptionStyleModel",
            "_view_count": null,
            "_view_module": "@jupyter-widgets/base",
            "_view_module_version": "1.2.0",
            "_view_name": "StyleView",
            "description_width": ""
          }
        },
        "38bb6ea8ff99461da11e3f823fa9a4d6": {
          "model_module": "@jupyter-widgets/controls",
          "model_module_version": "1.5.0",
          "model_name": "HBoxModel",
          "state": {
            "_dom_classes": [],
            "_model_module": "@jupyter-widgets/controls",
            "_model_module_version": "1.5.0",
            "_model_name": "HBoxModel",
            "_view_count": null,
            "_view_module": "@jupyter-widgets/controls",
            "_view_module_version": "1.5.0",
            "_view_name": "HBoxView",
            "box_style": "",
            "children": [
              "IPY_MODEL_b3cb2444dc3049fb8c8f5e0d1b3bfeeb",
              "IPY_MODEL_fec6bd4bc8a94a6eafb58c390e72e2d7",
              "IPY_MODEL_ee43bafd9eb54d4fb3b01993bb8f0b81"
            ],
            "layout": "IPY_MODEL_a4653c6ec6a04a1386a1d6b8020a49e3"
          }
        },
        "9407c5b2a0274761afeee760f44de042": {
          "model_module": "@jupyter-widgets/base",
          "model_module_version": "1.2.0",
          "model_name": "LayoutModel",
          "state": {
            "_model_module": "@jupyter-widgets/base",
            "_model_module_version": "1.2.0",
            "_model_name": "LayoutModel",
            "_view_count": null,
            "_view_module": "@jupyter-widgets/base",
            "_view_module_version": "1.2.0",
            "_view_name": "LayoutView",
            "align_content": null,
            "align_items": null,
            "align_self": null,
            "border": null,
            "bottom": null,
            "display": null,
            "flex": null,
            "flex_flow": null,
            "grid_area": null,
            "grid_auto_columns": null,
            "grid_auto_flow": null,
            "grid_auto_rows": null,
            "grid_column": null,
            "grid_gap": null,
            "grid_row": null,
            "grid_template_areas": null,
            "grid_template_columns": null,
            "grid_template_rows": null,
            "height": null,
            "justify_content": null,
            "justify_items": null,
            "left": null,
            "margin": null,
            "max_height": null,
            "max_width": null,
            "min_height": null,
            "min_width": null,
            "object_fit": null,
            "object_position": null,
            "order": null,
            "overflow": null,
            "overflow_x": null,
            "overflow_y": null,
            "padding": null,
            "right": null,
            "top": null,
            "visibility": null,
            "width": null
          }
        },
        "a4653c6ec6a04a1386a1d6b8020a49e3": {
          "model_module": "@jupyter-widgets/base",
          "model_module_version": "1.2.0",
          "model_name": "LayoutModel",
          "state": {
            "_model_module": "@jupyter-widgets/base",
            "_model_module_version": "1.2.0",
            "_model_name": "LayoutModel",
            "_view_count": null,
            "_view_module": "@jupyter-widgets/base",
            "_view_module_version": "1.2.0",
            "_view_name": "LayoutView",
            "align_content": null,
            "align_items": null,
            "align_self": null,
            "border": null,
            "bottom": null,
            "display": null,
            "flex": null,
            "flex_flow": null,
            "grid_area": null,
            "grid_auto_columns": null,
            "grid_auto_flow": null,
            "grid_auto_rows": null,
            "grid_column": null,
            "grid_gap": null,
            "grid_row": null,
            "grid_template_areas": null,
            "grid_template_columns": null,
            "grid_template_rows": null,
            "height": null,
            "justify_content": null,
            "justify_items": null,
            "left": null,
            "margin": null,
            "max_height": null,
            "max_width": null,
            "min_height": null,
            "min_width": null,
            "object_fit": null,
            "object_position": null,
            "order": null,
            "overflow": null,
            "overflow_x": null,
            "overflow_y": null,
            "padding": null,
            "right": null,
            "top": null,
            "visibility": null,
            "width": null
          }
        },
        "b3cb2444dc3049fb8c8f5e0d1b3bfeeb": {
          "model_module": "@jupyter-widgets/controls",
          "model_module_version": "1.5.0",
          "model_name": "HTMLModel",
          "state": {
            "_dom_classes": [],
            "_model_module": "@jupyter-widgets/controls",
            "_model_module_version": "1.5.0",
            "_model_name": "HTMLModel",
            "_view_count": null,
            "_view_module": "@jupyter-widgets/controls",
            "_view_module_version": "1.5.0",
            "_view_name": "HTMLView",
            "description": "",
            "description_tooltip": null,
            "layout": "IPY_MODEL_d9ec993d76fa4fe3ba3660856f006dc2",
            "placeholder": "​",
            "style": "IPY_MODEL_07af13ea8dba402c9ad15bd9bffa06df",
            "value": "100%"
          }
        },
        "d9ec993d76fa4fe3ba3660856f006dc2": {
          "model_module": "@jupyter-widgets/base",
          "model_module_version": "1.2.0",
          "model_name": "LayoutModel",
          "state": {
            "_model_module": "@jupyter-widgets/base",
            "_model_module_version": "1.2.0",
            "_model_name": "LayoutModel",
            "_view_count": null,
            "_view_module": "@jupyter-widgets/base",
            "_view_module_version": "1.2.0",
            "_view_name": "LayoutView",
            "align_content": null,
            "align_items": null,
            "align_self": null,
            "border": null,
            "bottom": null,
            "display": null,
            "flex": null,
            "flex_flow": null,
            "grid_area": null,
            "grid_auto_columns": null,
            "grid_auto_flow": null,
            "grid_auto_rows": null,
            "grid_column": null,
            "grid_gap": null,
            "grid_row": null,
            "grid_template_areas": null,
            "grid_template_columns": null,
            "grid_template_rows": null,
            "height": null,
            "justify_content": null,
            "justify_items": null,
            "left": null,
            "margin": null,
            "max_height": null,
            "max_width": null,
            "min_height": null,
            "min_width": null,
            "object_fit": null,
            "object_position": null,
            "order": null,
            "overflow": null,
            "overflow_x": null,
            "overflow_y": null,
            "padding": null,
            "right": null,
            "top": null,
            "visibility": null,
            "width": null
          }
        },
        "ee43bafd9eb54d4fb3b01993bb8f0b81": {
          "model_module": "@jupyter-widgets/controls",
          "model_module_version": "1.5.0",
          "model_name": "HTMLModel",
          "state": {
            "_dom_classes": [],
            "_model_module": "@jupyter-widgets/controls",
            "_model_module_version": "1.5.0",
            "_model_name": "HTMLModel",
            "_view_count": null,
            "_view_module": "@jupyter-widgets/controls",
            "_view_module_version": "1.5.0",
            "_view_name": "HTMLView",
            "description": "",
            "description_tooltip": null,
            "layout": "IPY_MODEL_18cb95e4b60a42878c8a6dc8872d17fe",
            "placeholder": "​",
            "style": "IPY_MODEL_1ca7ded2c6ef4e27aabb3c7f5b3743f4",
            "value": " 10/10 [00:00&lt;00:00, 21.37it/s]"
          }
        },
        "fec6bd4bc8a94a6eafb58c390e72e2d7": {
          "model_module": "@jupyter-widgets/controls",
          "model_module_version": "1.5.0",
          "model_name": "FloatProgressModel",
          "state": {
            "_dom_classes": [],
            "_model_module": "@jupyter-widgets/controls",
            "_model_module_version": "1.5.0",
            "_model_name": "FloatProgressModel",
            "_view_count": null,
            "_view_module": "@jupyter-widgets/controls",
            "_view_module_version": "1.5.0",
            "_view_name": "ProgressView",
            "bar_style": "success",
            "description": "",
            "description_tooltip": null,
            "layout": "IPY_MODEL_9407c5b2a0274761afeee760f44de042",
            "max": 10,
            "min": 0,
            "orientation": "horizontal",
            "style": "IPY_MODEL_0c02736b73ef4595b76e6017570c9d1b",
            "value": 10
          }
        }
      }
    }
  },
  "nbformat": 4,
  "nbformat_minor": 2
}